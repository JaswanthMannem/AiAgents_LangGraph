{
 "cells": [
  {
   "cell_type": "code",
   "execution_count": 1,
   "id": "65d1551e",
   "metadata": {},
   "outputs": [
    {
     "data": {
      "text/plain": [
       "True"
      ]
     },
     "execution_count": 1,
     "metadata": {},
     "output_type": "execute_result"
    }
   ],
   "source": [
    "from dotenv import load_dotenv\n",
    "load_dotenv()"
   ]
  },
  {
   "cell_type": "code",
   "execution_count": 2,
   "id": "12b377e1",
   "metadata": {},
   "outputs": [],
   "source": [
    "from langgraph.graph import StateGraph, END\n",
    "from typing import Annotated, TypedDict, List\n",
    "import operator\n",
    "from langchain_core.messages import AnyMessage, SystemMessage, AIMessage, HumanMessage\n",
    "from langgraph.checkpoint.sqlite import SqliteSaver\n",
    "from langchain_openai import ChatOpenAI\n",
    "import contextlib\n"
   ]
  },
  {
   "cell_type": "code",
   "execution_count": 3,
   "id": "9b3938d4",
   "metadata": {},
   "outputs": [],
   "source": [
    "memory = SqliteSaver.from_conn_string(\":memory:\")\n",
    "checkpointer = contextlib.ExitStack().enter_context(memory)"
   ]
  },
  {
   "cell_type": "code",
   "execution_count": 4,
   "id": "9587d2ed",
   "metadata": {},
   "outputs": [],
   "source": [
    "class AgentState(TypedDict):\n",
    "    task: str\n",
    "    plan: str\n",
    "    draft: str\n",
    "    critique: str\n",
    "    content: List[str]\n",
    "    revision_number: int\n",
    "    max_revisions: int"
   ]
  },
  {
   "cell_type": "code",
   "execution_count": 5,
   "id": "ba157021",
   "metadata": {},
   "outputs": [],
   "source": [
    "model = ChatOpenAI(model=\"gpt-3.5-turbo\",temperature=0)\n"
   ]
  },
  {
   "cell_type": "code",
   "execution_count": 6,
   "id": "b380541a",
   "metadata": {},
   "outputs": [],
   "source": [
    "PLAN_PROMPT = \"\"\"You are an expert writer tasked with writing a high level outline of an essay. \\\n",
    "Write such an outline for the user provided topic. Give an outline of the essay along with any relevant notes \\\n",
    "or instructions for the sections.\"\"\""
   ]
  },
  {
   "cell_type": "code",
   "execution_count": 7,
   "id": "c4ce2867",
   "metadata": {},
   "outputs": [],
   "source": [
    "WRITER_PROMPT = \"\"\"You are an essay assistant tasked with writing excellent 5-paragraph essays.\\\n",
    "Generate the best essay possible for the user's request and the initial outline. \\\n",
    "If the user provides critique, respond with a revised version of your previous attempts. \\\n",
    "Utilize all the information below as needed: \n",
    "\n",
    "------\n",
    "\n",
    "{content}\"\"\""
   ]
  },
  {
   "cell_type": "code",
   "execution_count": 8,
   "id": "03d9100b",
   "metadata": {},
   "outputs": [],
   "source": [
    "REFLECTION_PROMPT = \"\"\"You are a teacher grading an essay submission. \\\n",
    "Generate critique and recommendations for the user's submission. \\\n",
    "Provide detailed recommendations, including requests for length, depth, style, etc.\"\"\""
   ]
  },
  {
   "cell_type": "code",
   "execution_count": 9,
   "id": "d73f933b",
   "metadata": {},
   "outputs": [],
   "source": [
    "RESEARCH_PLAN_PROMPT = \"\"\"You are a researcher charged with providing information that can \\\n",
    "be used when writing the following essay. Generate a list of search queries that will gather \\\n",
    "any relevant information. Only generate 3 queries max.\"\"\"\n"
   ]
  },
  {
   "cell_type": "code",
   "execution_count": 10,
   "id": "960dbfba",
   "metadata": {},
   "outputs": [],
   "source": [
    "RESEARCH_CRITIQUE_PROMPT = \"\"\"You are a researcher charged with providing information that can \\\n",
    "be used when making any requested revisions (as outlined below). \\\n",
    "Generate a list of search queries that will gather any relevant information. Only generate 3 queries max.\"\"\"\n"
   ]
  },
  {
   "cell_type": "code",
   "execution_count": 11,
   "id": "d4d77ede",
   "metadata": {},
   "outputs": [
    {
     "name": "stderr",
     "output_type": "stream",
     "text": [
      "/Users/jaswanthmannem/Desktop/MyProjects/AiAgents_LangGraph/agents/lib/python3.10/site-packages/IPython/core/interactiveshell.py:3579: LangChainDeprecationWarning: As of langchain-core 0.3.0, LangChain uses pydantic v2 internally. The langchain_core.pydantic_v1 module was a compatibility shim for pydantic v1, and should no longer be used. Please update the code to import from Pydantic directly.\n",
      "\n",
      "For example, replace imports like: `from langchain_core.pydantic_v1 import BaseModel`\n",
      "with: `from pydantic import BaseModel`\n",
      "or the v1 compatibility namespace if you are working in a code base that has not been fully upgraded to pydantic 2 yet. \tfrom pydantic.v1 import BaseModel\n",
      "\n",
      "  exec(code_obj, self.user_global_ns, self.user_ns)\n"
     ]
    }
   ],
   "source": [
    "from langchain_core.pydantic_v1 import BaseModel\n",
    "\n",
    "class Queries(BaseModel):\n",
    "    queries: List[str]"
   ]
  },
  {
   "cell_type": "code",
   "execution_count": 12,
   "id": "3df1674a",
   "metadata": {},
   "outputs": [],
   "source": [
    "from tavily import TavilyClient\n",
    "import os\n",
    "tavily = TavilyClient(api_key=os.getenv(\"TAVILY_API_KEY\"))"
   ]
  },
  {
   "cell_type": "code",
   "execution_count": 13,
   "id": "19e3979b",
   "metadata": {},
   "outputs": [],
   "source": [
    "def plan_node(state: AgentState):\n",
    "    messages = [SystemMessage(content=PLAN_PROMPT),HumanMessage(content=state[\"task\"])]\n",
    "    response = model.invoke(messages)\n",
    "    return {\"plan\":response.content}"
   ]
  },
  {
   "cell_type": "code",
   "execution_count": 27,
   "id": "2a47af42",
   "metadata": {},
   "outputs": [],
   "source": [
    "def research_plan_node(state: AgentState):\n",
    "    queries = model.with_structured_output(Queries).invoke(\n",
    "        [SystemMessage(content=RESEARCH_PLAN_PROMPT),HumanMessage(content=state[\"task\"])]\n",
    "    )\n",
    "    content = state.get(\"content\", [])\n",
    "    for q in queries.queries:\n",
    "        response = tavily.search(query=q,max_results=2)\n",
    "        for r in response[\"results\"]:\n",
    "            content.append(r[\"content\"])\n",
    "    return {\"content\":content}"
   ]
  },
  {
   "cell_type": "code",
   "execution_count": 28,
   "id": "016307b6",
   "metadata": {},
   "outputs": [],
   "source": [
    "def generation_node(state: AgentState):\n",
    "    content = \"\\n\\n\".join(state[\"content\"] or [])\n",
    "    user_message = HumanMessage(content=f\"{state['task']}\\n\\n. Here is my plan\\n\\n{state['plan']}\")\n",
    "    messages = [SystemMessage(content=WRITER_PROMPT.format(content=content)),user_message]\n",
    "    response = model.invoke(messages)\n",
    "    return {\n",
    "        \"draft\":response.content,\n",
    "        \"revision_number\":state.get(\"revision_number\",1) + 1\n",
    "    }"
   ]
  },
  {
   "cell_type": "code",
   "execution_count": 29,
   "id": "f5e225b6",
   "metadata": {},
   "outputs": [],
   "source": [
    "def reflection_node(state: AgentState):\n",
    "    messages = [SystemMessage(content=REFLECTION_PROMPT),HumanMessage(content=state[\"draft\"])]\n",
    "    response = model.invoke(messages)\n",
    "    return {\"critique\":response.content}"
   ]
  },
  {
   "cell_type": "code",
   "execution_count": 30,
   "id": "c48d907e",
   "metadata": {},
   "outputs": [],
   "source": [
    "def research_crtique_node(state: AgentState):\n",
    "    queries = model.with_structured_output(Queries).invoke(\n",
    "        [SystemMessage(content=RESEARCH_CRITIQUE_PROMPT),HumanMessage(content=state[\"critique\"])]\n",
    "    )\n",
    "    content = state.get(\"content\", [])\n",
    "    for q in queries.queries:\n",
    "        response = tavily.search(query=q,max_results=2)\n",
    "        for r in response[\"results\"]:\n",
    "            content.append(r['content'])\n",
    "    return {\"content\":content}"
   ]
  },
  {
   "cell_type": "code",
   "execution_count": 31,
   "id": "622bad45",
   "metadata": {},
   "outputs": [],
   "source": [
    "def should_continue_state(state):\n",
    "    if state[\"revision_number\"] > state[\"max_revisions\"]:\n",
    "        return END\n",
    "    return \"reflect\""
   ]
  },
  {
   "cell_type": "code",
   "execution_count": 32,
   "id": "e03952f5",
   "metadata": {},
   "outputs": [],
   "source": [
    "builder = StateGraph(AgentState)"
   ]
  },
  {
   "cell_type": "code",
   "execution_count": 33,
   "id": "7b84eac0",
   "metadata": {},
   "outputs": [
    {
     "data": {
      "text/plain": [
       "<langgraph.graph.state.StateGraph at 0x10fc6bf70>"
      ]
     },
     "execution_count": 33,
     "metadata": {},
     "output_type": "execute_result"
    }
   ],
   "source": [
    "builder.add_node(\"planner\",plan_node)\n",
    "builder.add_node(\"generate\",generation_node)\n",
    "builder.add_node(\"reflect\",reflection_node)\n",
    "builder.add_node(\"research_plan\",research_plan_node)\n",
    "builder.add_node(\"research_crtique\",research_crtique_node)"
   ]
  },
  {
   "cell_type": "code",
   "execution_count": 34,
   "id": "f7d03f8d",
   "metadata": {},
   "outputs": [
    {
     "data": {
      "text/plain": [
       "<langgraph.graph.state.StateGraph at 0x10fc6bf70>"
      ]
     },
     "execution_count": 34,
     "metadata": {},
     "output_type": "execute_result"
    }
   ],
   "source": [
    "builder.set_entry_point(\"planner\")"
   ]
  },
  {
   "cell_type": "code",
   "execution_count": 35,
   "id": "b40588d1",
   "metadata": {},
   "outputs": [
    {
     "data": {
      "text/plain": [
       "<langgraph.graph.state.StateGraph at 0x10fc6bf70>"
      ]
     },
     "execution_count": 35,
     "metadata": {},
     "output_type": "execute_result"
    }
   ],
   "source": [
    "builder.add_conditional_edges(\"generate\",should_continue_state,{END:END,\"reflect\":\"reflect\"})"
   ]
  },
  {
   "cell_type": "code",
   "execution_count": 36,
   "id": "152e3f62",
   "metadata": {},
   "outputs": [
    {
     "data": {
      "text/plain": [
       "<langgraph.graph.state.StateGraph at 0x10fc6bf70>"
      ]
     },
     "execution_count": 36,
     "metadata": {},
     "output_type": "execute_result"
    }
   ],
   "source": [
    "builder.add_edge(\"planner\",\"research_plan\")\n",
    "builder.add_edge(\"research_plan\",\"generate\")\n",
    "builder.add_edge(\"reflect\",\"research_crtique\")\n",
    "builder.add_edge(\"research_crtique\",\"generate\")\n"
   ]
  },
  {
   "cell_type": "code",
   "execution_count": 37,
   "id": "196a73ec",
   "metadata": {},
   "outputs": [],
   "source": [
    "graph = builder.compile(checkpointer=checkpointer)"
   ]
  },
  {
   "cell_type": "code",
   "execution_count": 38,
   "id": "a5df63c6",
   "metadata": {},
   "outputs": [
    {
     "data": {
      "image/png": "[encoded data removed]",
      "text/plain": [
       "<IPython.core.display.Image object>"
      ]
     },
     "execution_count": 38,
     "metadata": {},
     "output_type": "execute_result"
    }
   ],
   "source": [
    "from IPython.display import Image\n",
    "\n",
    "Image(graph.get_graph().draw_png())"
   ]
  },
  {
   "cell_type": "code",
   "execution_count": 39,
   "id": "a656465c",
   "metadata": {},
   "outputs": [
    {
     "name": "stdout",
     "output_type": "stream",
     "text": [
      "{'planner': {'plan': 'I. Introduction\\n    A. Brief overview of Langchain and Langsmith\\n    B. Thesis statement: Exploring the differences between Langchain and Langsmith\\n\\nII. Langchain\\n    A. Definition and explanation\\n    B. Key features and characteristics\\n    C. Use cases and applications\\n    D. Advantages and disadvantages\\n\\nIII. Langsmith\\n    A. Definition and explanation\\n    B. Key features and characteristics\\n    C. Use cases and applications\\n    D. Advantages and disadvantages\\n\\nIV. Comparison between Langchain and Langsmith\\n    A. Technology stack\\n    B. Scalability\\n    C. Security\\n    D. Flexibility\\n    E. Performance\\n\\nV. Conclusion\\n    A. Recap of main differences between Langchain and Langsmith\\n    B. Implications for future development and adoption\\n    C. Final thoughts on the significance of these technologies\\n\\nNotes:\\n- Ensure a clear and concise explanation of both Langchain and Langsmith.\\n- Provide specific examples of use cases to illustrate the differences.\\n- Use comparative analysis to highlight the distinctions between the two technologies.\\n- Conclude with insights on the potential impact of Langchain and Langsmith on the industry.'}}\n"
     ]
    },
    {
     "name": "stderr",
     "output_type": "stream",
     "text": [
      "/Users/jaswanthmannem/Desktop/MyProjects/AiAgents_LangGraph/agents/lib/python3.10/site-packages/langchain_openai/chat_models/base.py:1624: UserWarning: Received a Pydantic BaseModel V1 schema. This is not supported by method=\"json_schema\". Please use method=\"function_calling\" or specify schema via JSON Schema or Pydantic V2 BaseModel. Overriding to method=\"function_calling\".\n",
      "  warnings.warn(\n",
      "/Users/jaswanthmannem/Desktop/MyProjects/AiAgents_LangGraph/agents/lib/python3.10/site-packages/langchain_openai/chat_models/base.py:1637: UserWarning: Cannot use method='json_schema' with model gpt-3.5-turbo since it doesn't support OpenAI's Structured Output API. You can see supported models here: https://platform.openai.com/docs/guides/structured-outputs#supported-models. To fix this warning, set `method='function_calling'. Overriding to method='function_calling'.\n",
      "  warnings.warn(\n"
     ]
    },
    {
     "name": "stdout",
     "output_type": "stream",
     "text": [
      "{'research_plan': {'content': ['Langchain vs Langsmith: Unpacking the AI Language Model Showdown – Be on the Right Side of Change Langchain vs Langsmith: Unpacking the AI Language Model Showdown If Langchain is the engine, LangSmith is the dashboard helping you monitor and debug the performance of your LLM applications. It’s about bringing your ideas from initial prototype to a robust production environment, using tools like LangSmith for crafting and LangChain for deployment. Remember, while LangSmith helps you build, test, and debug your prototype, LangChain offers the structure for deploying and monitoring your final product in a live environment. Whether you’re trying to figure out which tool fits your needs or you’re just getting started with language model automation, these FAQs will help shed light on the common curiosities about Langchain and LangSmith.', 'But when it’s time to troubleshoot or improve your workflows, LangSmith steps in with tools to analyze, debug, and optimize. When it comes to practical application, I always say: “Show, don’t tell.” I’ve used both LangChain and LangSmith extensively, and I’ve found that they complement each other beautifully when you’re building and fine-tuning LLM-based workflows. Having spent countless hours building and debugging LLM-based systems, I’ve learned that using LangChain and LangSmith effectively requires a few smart strategies. I often use LangChain to build my pipelines and LangSmith to monitor and debug them. Start with LangChain to build your pipeline, and then bring in LangSmith to ensure it performs as expected.', '* It provides a standard interface for chains, many integrations with other tools, and end-to-end chains for common applications. LangChain allows AI developers to develop applications based on the combined Large Language Models (such as GPT-4) with external sources of computation and data. LangChain helps manage complex workflows, making it easier to integrate LLMs into various applications like chatbots and document analysis. Models* LangChain is model-agnostic, meaning it can integrate with different LLMs, such as OpenAI’s GPT, Hugging Face models, DeepSeek R1, and more.', 'How to use tools in a chain How to use few shot examples in chat models How to add ad-hoc tool calling capability to LLMs and Chat Models How to migrate from legacy LangChain agents to LangGraph How to use LangChain with different Pydantic versions How to use chat models to call tools How to pass tool outputs to chat models Why LangChain? langchain-core: contains core abstractions involving LangChain Runnables, tooling for observability, and base implementations of important abstractions (e.g., Chat Models). For example, create_tool_calling_agent works across chat models that support tool calling capabilities. This allowed imports of vectorstores, chat models, and other integrations to continue working through langchain rather than forcing users to update all of their imports to langchain-community.', \"API Reference REST Python JS/TS Search Region US EU Go to App Get Started Observability Evaluation Prompt Engineering Deployment (LangGraph Platform) Administration Self-hosting Pricing Reference Cloud architecture and scalability Authz and Authn Authentication methods data_formats Evaluation Dataset transformations Regions FAQ sdk_reference Get Started On this page Get started with LangSmith LangSmith is a platform for building production-grade LLM applications. It allows you to closely monitor and evaluate your application, so you can ship quickly and with confidence. LangSmith + LangChain OSS LangSmith is framework-agnostic — it can be used with or without LangChain's open source frameworks langchain and langgraph. LangSmith has LLM-native observability, allowing you to get meaningful insights from your application.\", 'See our pricing page for more detail, and contact us at sales@langchain.dev if you want to get a license key to trial LangSmith in your environment. LangSmith Backend To access the LangSmith UI and send API requests, you will need to expose the LangSmith Frontend service. LangSmith Self-Hosted will bundle all storage services by default. LangSmith can be configured to use external versions of all storage services. LangSmith uses ClickHouse as the primary data store for traces and feedback (high-volume data). LangSmith uses Postgres as the primary data store for transactional workloads and operational data (almost everything besides traces and feedback). The playground is a service that handles forwarding requests to various LLM APIs to support the LangSmith Playground feature. LangSmith Backend LangSmith SDK']}}\n",
      "{'generate': {'draft': \"**Title: Langchain vs Langsmith: Unveiling the Contrasts in AI Language Models**\\n\\nI. **Introduction**\\nIn the realm of AI language models, Langchain and Langsmith stand out as pivotal tools, each playing a distinct role in the development and deployment of language model applications. While Langchain serves as the engine for deploying and monitoring these applications, Langsmith acts as the dashboard, aiding in the crafting and optimization of LLM workflows. This essay delves into the disparities between Langchain and Langsmith, shedding light on their unique functionalities and implications for the AI landscape.\\n\\nII. **Langchain**\\nLangchain, the engine behind LLM applications, offers a standardized interface for chains, facilitating seamless integration with various tools and end-to-end workflows for diverse applications. It enables developers to harness the power of Large Language Models like GPT-4 alongside external computation sources, making it ideal for applications such as chatbots and document analysis. Langchain's model-agnostic nature allows it to integrate with different LLMs, ensuring flexibility and adaptability in the development process.\\n\\nIII. **Langsmith**\\nIn contrast, Langsmith serves as a platform for building production-grade LLM applications, providing observability and evaluation tools to ensure the robustness and efficiency of the developed applications. With LLM-native observability, Langsmith empowers developers to monitor and optimize their applications effectively, enabling quick and confident deployment. It can be used independently or in conjunction with LangChain's frameworks, offering versatility in application development.\\n\\nIV. **Comparison between Langchain and Langsmith**\\nA. **Technology Stack**: Langchain focuses on deployment and monitoring, while Langsmith emphasizes building and evaluation.\\nB. **Scalability**: Langchain excels in managing complex workflows, while Langsmith prioritizes production-grade application development.\\nC. **Security**: Langchain offers tools for integrating LLMs securely, while Langsmith ensures data integrity and traceability.\\nD. **Flexibility**: Langchain's model-agnostic approach provides versatility, whereas Langsmith's observability tools enhance application performance.\\nE. **Performance**: Langchain streamlines deployment processes, while Langsmith enhances application monitoring and optimization.\\n\\nV. **Conclusion**\\nIn conclusion, the distinctions between Langchain and Langsmith underscore the complementary roles they play in the AI language model ecosystem. Understanding these differences is crucial for developers seeking to leverage LLMs effectively in their applications. As the industry continues to evolve, the adoption of tools like Langchain and Langsmith will shape the future of AI development, paving the way for innovative and efficient language model applications.\", 'revision_number': 2}}\n",
      "{'reflect': {'critique': '**Critique:**\\n1. **Introduction:**\\n   - The introduction effectively sets the stage by introducing Langchain and Langsmith and highlighting their significance in the AI language model landscape. However, it could be enhanced by providing a brief overview of the growing importance of AI language models in various industries.\\n\\n2. **Langchain and Langsmith Sections:**\\n   - Both sections provide a clear explanation of the functionalities and roles of Langchain and Langsmith. However, more specific examples or case studies showcasing the practical applications of these tools would enrich the content and make it more engaging for the reader.\\n\\n3. **Comparison Section:**\\n   - The comparison between Langchain and Langsmith is well-structured and provides a comprehensive analysis of their differences in terms of technology stack, scalability, security, flexibility, and performance. To further enhance this section, consider including real-world scenarios where one tool might be more beneficial than the other.\\n\\n4. **Conclusion:**\\n   - The conclusion effectively summarizes the key points discussed in the essay. To strengthen it further, you could consider adding a call to action or a forward-looking statement about the future of AI language models and the role of Langchain and Langsmith in shaping it.\\n\\n**Recommendations:**\\n1. **Depth and Detail:**\\n   - Provide more in-depth explanations of how Langchain and Langsmith work, including technical details and specific use cases to illustrate their functionalities.\\n\\n2. **Real-World Examples:**\\n   - Incorporate real-world examples or case studies to demonstrate how Langchain and Langsmith have been successfully utilized in different AI language model applications.\\n\\n3. **Expansion:**\\n   - Consider expanding on the implications of using Langchain and Langsmith in terms of cost-effectiveness, time efficiency, and overall impact on AI development processes.\\n\\n4. **Clarity and Coherence:**\\n   - Ensure that each section flows logically into the next, maintaining a clear and coherent structure throughout the essay.\\n\\n5. **Length:**\\n   - While the essay is concise, consider expanding on each section to provide a more comprehensive analysis of Langchain and Langsmith, their functionalities, and their significance in the AI landscape.\\n\\n6. **Style and Tone:**\\n   - Maintain a formal and professional tone throughout the essay, ensuring clarity and precision in language to convey complex technical concepts effectively.\\n\\nBy incorporating these recommendations, you can enhance the depth and quality of your essay on Langchain and Langsmith, providing a more insightful and engaging analysis for your readers.'}}\n"
     ]
    },
    {
     "name": "stderr",
     "output_type": "stream",
     "text": [
      "/Users/jaswanthmannem/Desktop/MyProjects/AiAgents_LangGraph/agents/lib/python3.10/site-packages/langchain_openai/chat_models/base.py:1624: UserWarning: Received a Pydantic BaseModel V1 schema. This is not supported by method=\"json_schema\". Please use method=\"function_calling\" or specify schema via JSON Schema or Pydantic V2 BaseModel. Overriding to method=\"function_calling\".\n",
      "  warnings.warn(\n",
      "/Users/jaswanthmannem/Desktop/MyProjects/AiAgents_LangGraph/agents/lib/python3.10/site-packages/langchain_openai/chat_models/base.py:1637: UserWarning: Cannot use method='json_schema' with model gpt-3.5-turbo since it doesn't support OpenAI's Structured Output API. You can see supported models here: https://platform.openai.com/docs/guides/structured-outputs#supported-models. To fix this warning, set `method='function_calling'. Overriding to method='function_calling'.\n",
      "  warnings.warn(\n"
     ]
    },
    {
     "name": "stdout",
     "output_type": "stream",
     "text": [
      "{'research_crtique': {'content': ['Langchain vs Langsmith: Unpacking the AI Language Model Showdown – Be on the Right Side of Change Langchain vs Langsmith: Unpacking the AI Language Model Showdown If Langchain is the engine, LangSmith is the dashboard helping you monitor and debug the performance of your LLM applications. It’s about bringing your ideas from initial prototype to a robust production environment, using tools like LangSmith for crafting and LangChain for deployment. Remember, while LangSmith helps you build, test, and debug your prototype, LangChain offers the structure for deploying and monitoring your final product in a live environment. Whether you’re trying to figure out which tool fits your needs or you’re just getting started with language model automation, these FAQs will help shed light on the common curiosities about Langchain and LangSmith.', 'But when it’s time to troubleshoot or improve your workflows, LangSmith steps in with tools to analyze, debug, and optimize. When it comes to practical application, I always say: “Show, don’t tell.” I’ve used both LangChain and LangSmith extensively, and I’ve found that they complement each other beautifully when you’re building and fine-tuning LLM-based workflows. Having spent countless hours building and debugging LLM-based systems, I’ve learned that using LangChain and LangSmith effectively requires a few smart strategies. I often use LangChain to build my pipelines and LangSmith to monitor and debug them. Start with LangChain to build your pipeline, and then bring in LangSmith to ensure it performs as expected.', '* It provides a standard interface for chains, many integrations with other tools, and end-to-end chains for common applications. LangChain allows AI developers to develop applications based on the combined Large Language Models (such as GPT-4) with external sources of computation and data. LangChain helps manage complex workflows, making it easier to integrate LLMs into various applications like chatbots and document analysis. Models* LangChain is model-agnostic, meaning it can integrate with different LLMs, such as OpenAI’s GPT, Hugging Face models, DeepSeek R1, and more.', 'How to use tools in a chain How to use few shot examples in chat models How to add ad-hoc tool calling capability to LLMs and Chat Models How to migrate from legacy LangChain agents to LangGraph How to use LangChain with different Pydantic versions How to use chat models to call tools How to pass tool outputs to chat models Why LangChain? langchain-core: contains core abstractions involving LangChain Runnables, tooling for observability, and base implementations of important abstractions (e.g., Chat Models). For example, create_tool_calling_agent works across chat models that support tool calling capabilities. This allowed imports of vectorstores, chat models, and other integrations to continue working through langchain rather than forcing users to update all of their imports to langchain-community.', \"API Reference REST Python JS/TS Search Region US EU Go to App Get Started Observability Evaluation Prompt Engineering Deployment (LangGraph Platform) Administration Self-hosting Pricing Reference Cloud architecture and scalability Authz and Authn Authentication methods data_formats Evaluation Dataset transformations Regions FAQ sdk_reference Get Started On this page Get started with LangSmith LangSmith is a platform for building production-grade LLM applications. It allows you to closely monitor and evaluate your application, so you can ship quickly and with confidence. LangSmith + LangChain OSS LangSmith is framework-agnostic — it can be used with or without LangChain's open source frameworks langchain and langgraph. LangSmith has LLM-native observability, allowing you to get meaningful insights from your application.\", 'See our pricing page for more detail, and contact us at sales@langchain.dev if you want to get a license key to trial LangSmith in your environment. LangSmith Backend To access the LangSmith UI and send API requests, you will need to expose the LangSmith Frontend service. LangSmith Self-Hosted will bundle all storage services by default. LangSmith can be configured to use external versions of all storage services. LangSmith uses ClickHouse as the primary data store for traces and feedback (high-volume data). LangSmith uses Postgres as the primary data store for transactional workloads and operational data (almost everything besides traces and feedback). The playground is a service that handles forwarding requests to various LLM APIs to support the LangSmith Playground feature. LangSmith Backend LangSmith SDK', '1. What is an AI Language Model? 1. What is an AI Language Model? An AI language model is a type of artificial intelligence designed to understand, generate, and process human language. 1. Are large language models generative AI? 9. Which AI language model is used for text-to-image generation? Are large language models the same as generative AI? While generative AI encompasses any AI that can create new data (like images, music, or text), large language models specifically focus on generating and processing human language. Whether you’re generating creative content or analyzing complex data, the best AI language models of 2024 offer powerful solutions to enhance productivity and innovation across industries.', 'Artificial intelligence and industrial applications-A revolution in modern industries - ScienceDirect Ain Shams Engineering Journal AI as a 4.0 industrial revolution is increasingly bringing smart solutions to humans. AI brings benefits in terms of reduced energy consumption, induced cost-effectiveness, reduced operational risks, and increased performance matrices. The review will elaborate on how AI is revolutionizing various industries, including food, drug discovery, e-commerce, and chemical industries, by offering smart solutions. The integration of AI facilitates efficient structuring, administration, design, productivity, manufacturing, promotion, and accessibility of industrial products. Application of AI in Industry. Next article in issue AI and industrial applications AI and food industry AI and chemical industry No articles found. For all open access content, the relevant licensing terms apply.', 'But when it’s time to troubleshoot or improve your workflows, LangSmith steps in with tools to analyze, debug, and optimize. When it comes to practical application, I always say: “Show, don’t tell.” I’ve used both LangChain and LangSmith extensively, and I’ve found that they complement each other beautifully when you’re building and fine-tuning LLM-based workflows. Having spent countless hours building and debugging LLM-based systems, I’ve learned that using LangChain and LangSmith effectively requires a few smart strategies. I often use LangChain to build my pipelines and LangSmith to monitor and debug them. Start with LangChain to build your pipeline, and then bring in LangSmith to ensure it performs as expected.', 'from langchain.tools import DuckDuckGoSearchRun from langchain.chat_models import ChatOpenAI from langchain.prompts import ChatPromptTemplate from langchain.memory import ConversationBufferMemory from langchain.schema import SystemMessage import os os.environ[\"OPENAI_API_KEY\"] = \"YOUR_OPENAI_API_KEY\" # Replace with your API Key search_tool = DuckDuckGoSearchRun() llm = ChatOpenAI(model_name=\"gpt-3.5-turbo\", temperature=0) memory = ConversationBufferMemory(return_messages=True) response_prompt = ChatPromptTemplate.from_messages([ SystemMessage(content=\"You are a helpful and knowledgeable AI assistant.\"), (\"user\", \"{input}\\\\n\\\\nSearch Results: {search_results}\\\\n\\\\nChat History:\\\\n{chat_history}\") ]) def search(state: AgentState): query = state[\"input\"] results = search_tool.run(query) return {\"search_results\": results} def generate_response(state: AgentState): inputs = state inputs[\"chat_history\"] = memory.load_memory_variables({})[\"history\"] prompt = response_prompt.format_messages(**inputs) response = llm(prompt).content memory.save_context({\"input\": state[\"input\"]},{\"output\":response}) return {\"output\":response} From building foundational LLM applications with LangChain to modeling intricate stateful agents with LangGraph and ensuring reliability with LangSmith, these tools are indispensable in the modern landscape of AI development.', 'Compare LangChain, LangSmith, and Orq.ai to discover the best LLM development tools for building, deploying, and optimizing scalable AI applications. As a comprehensive platform for LLM product development, LangChain equips software teams with the tools needed to build, test, and deploy LLM-powered solutions at scale. While LangChain focuses on the flexibility and modularity required for building LLM-powered applications, LangSmith steps in to offer essential tools for deployment, monitoring, and optimization throughout the production process. Orq.ai offers several advantages over LangChain and LangSmith, providing a more integrated and efficient solution for LLM development. By offering an integrated solution that supports the entire LLM development lifecycle, Orq.ai enables teams to seamlessly build, deploy, and optimize LLM applications at scale, without needing to juggle multiple specialized tools.', 'from langchain.tools import DuckDuckGoSearchRun from langchain.chat_models import ChatOpenAI from langchain.prompts import ChatPromptTemplate from langchain.memory import ConversationBufferMemory from langchain.schema import SystemMessage import os os.environ[\"OPENAI_API_KEY\"] = \"YOUR_OPENAI_API_KEY\" # Replace with your API Key search_tool = DuckDuckGoSearchRun() llm = ChatOpenAI(model_name=\"gpt-3.5-turbo\", temperature=0) memory = ConversationBufferMemory(return_messages=True) response_prompt = ChatPromptTemplate.from_messages([ SystemMessage(content=\"You are a helpful and knowledgeable AI assistant.\"), (\"user\", \"{input}\\\\n\\\\nSearch Results: {search_results}\\\\n\\\\nChat History:\\\\n{chat_history}\") ]) def search(state: AgentState): query = state[\"input\"] results = search_tool.run(query) return {\"search_results\": results} def generate_response(state: AgentState): inputs = state inputs[\"chat_history\"] = memory.load_memory_variables({})[\"history\"] prompt = response_prompt.format_messages(**inputs) response = llm(prompt).content memory.save_context({\"input\": state[\"input\"]},{\"output\":response}) return {\"output\":response} From building foundational LLM applications with LangChain to modeling intricate stateful agents with LangGraph and ensuring reliability with LangSmith, these tools are indispensable in the modern landscape of AI development.']}}\n",
      "{'generate': {'draft': \"**Title: Langchain vs Langsmith: Contrasting Two Pillars of AI Language Model Development**\\n\\nI. Introduction\\nIn the realm of AI language model development, Langchain and Langsmith stand out as essential tools, each playing a distinct role in the process. Langchain serves as the engine, facilitating the deployment and integration of Large Language Models (LLMs), while Langsmith acts as the dashboard, offering monitoring and optimization capabilities. This essay delves into the disparities between Langchain and Langsmith to illuminate their unique contributions to AI development.\\n\\nII. Langchain\\nLangchain, the foundational engine in the AI language model landscape, provides a standardized interface for chains, enabling seamless integration with various tools and end-to-end applications. It allows developers to incorporate LLMs like GPT-4 into diverse applications such as chatbots and document analysis. Langchain's model-agnostic nature ensures compatibility with different LLMs, enhancing its versatility. However, its complexity may pose a challenge for beginners.\\n\\nIII. Langsmith\\nIn contrast, Langsmith serves as the observability and evaluation platform for production-grade LLM applications. It offers native observability tailored for LLMs, empowering developers to monitor and optimize their applications effectively. Langsmith's framework-agnostic design allows it to function independently or in conjunction with Langchain, providing flexibility in deployment strategies. While Langsmith excels in monitoring and debugging, its standalone capabilities may limit its integration potential.\\n\\nIV. Comparison between Langchain and Langsmith\\nA. **Technology Stack**: Langchain focuses on managing complex workflows and integrating LLMs, while Langsmith emphasizes observability and evaluation.\\nB. **Scalability**: Langchain offers flexibility and modularity for building LLM-powered applications at scale, whereas Langsmith specializes in monitoring and optimizing application performance.\\nC. **Security**: Langchain ensures secure deployment and management of LLM applications, while Langsmith prioritizes observability and feedback mechanisms for enhanced security.\\nD. **Flexibility**: Langchain provides a structured approach to deploying LLMs, while Langsmith offers adaptability and monitoring capabilities.\\nE. **Performance**: Langchain streamlines the development process, while Langsmith enhances application performance through monitoring and optimization.\\n\\nV. Conclusion\\nIn conclusion, the distinctive roles of Langchain and Langsmith in AI language model development underscore the importance of a comprehensive approach to LLM applications. While Langchain focuses on deployment and integration, Langsmith enhances monitoring and optimization. Understanding the nuances between these tools is crucial for maximizing their potential in AI development. As the industry evolves, the synergy between Langchain and Langsmith is poised to drive innovation and efficiency in AI language model applications.\", 'revision_number': 3}}\n"
     ]
    }
   ],
   "source": [
    "thread = {\"configurable\": {\"thread_id\": \"1\"}}\n",
    "for s in graph.stream({\n",
    "    'task': \"what is the difference between langchain and langsmith\",\n",
    "    \"max_revisions\": 2,\n",
    "    \"revision_number\": 1,\n",
    "}, thread):\n",
    "    print(s)"
   ]
  },
  {
   "cell_type": "code",
   "execution_count": null,
   "id": "1e765cb7",
   "metadata": {},
   "outputs": [],
   "source": []
  }
 ],
 "metadata": {
  "kernelspec": {
   "display_name": "agents",
   "language": "python",
   "name": "python3"
  },
  "language_info": {
   "codemirror_mode": {
    "name": "ipython",
    "version": 3
   },
   "file_extension": ".py",
   "mimetype": "text/x-python",
   "name": "python",
   "nbconvert_exporter": "python",
   "pygments_lexer": "ipython3",
   "version": "3.10.17"
  }
 },
 "nbformat": 4,
 "nbformat_minor": 5
}
