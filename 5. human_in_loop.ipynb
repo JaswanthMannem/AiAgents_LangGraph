{
 "cells": [
  {
   "cell_type": "code",
   "execution_count": 1,
   "id": "cefab0c1",
   "metadata": {},
   "outputs": [
    {
     "data": {
      "text/plain": [
       "True"
      ]
     },
     "execution_count": 1,
     "metadata": {},
     "output_type": "execute_result"
    }
   ],
   "source": [
    "from dotenv import load_dotenv\n",
    "load_dotenv()"
   ]
  },
  {
   "cell_type": "code",
   "execution_count": 2,
   "id": "810779d5",
   "metadata": {},
   "outputs": [],
   "source": [
    "import os, json\n",
    "import contextlib\n",
    "from langgraph.graph import StateGraph, END\n",
    "from typing import Annotated, TypedDict\n",
    "import operator\n",
    "from langchain_openai import ChatOpenAI\n",
    "from langchain_core.messages import SystemMessage, HumanMessage, AnyMessage, ToolMessage\n",
    "from langchain_community.tools import TavilySearchResults\n",
    "from langgraph.checkpoint.sqlite import SqliteSaver"
   ]
  },
  {
   "cell_type": "code",
   "execution_count": 3,
   "id": "32af4ab4",
   "metadata": {},
   "outputs": [],
   "source": [
    "tool = TavilySearchResults(tavily_api_key=os.getenv(\"TAVILY_API_KEY\"),max_results=2)\n",
    "memory = SqliteSaver.from_conn_string(\":memory:\")\n",
    "checkpointer = contextlib.ExitStack().enter_context(memory)"
   ]
  },
  {
   "cell_type": "code",
   "execution_count": 4,
   "id": "5950ddb1",
   "metadata": {},
   "outputs": [],
   "source": [
    "from uuid import uuid4"
   ]
  },
  {
   "cell_type": "code",
   "execution_count": 5,
   "id": "330289be",
   "metadata": {},
   "outputs": [],
   "source": [
    "def reduce_messages(left: list[AnyMessage], right: list[AnyMessage]) -> list[AnyMessage]:\n",
    "    for message in right:\n",
    "        if not message.id:\n",
    "            message.id = str(uuid4())\n",
    "\n",
    "    merged = left.copy()\n",
    "    for message in right:\n",
    "        for idx,existing in enumerate(merged):\n",
    "            if existing.id == message.id:\n",
    "                merged[idx] = message\n",
    "                break\n",
    "        else:\n",
    "            merged.append(message)\n",
    "    return merged"
   ]
  },
  {
   "cell_type": "code",
   "execution_count": 6,
   "id": "f850f77f",
   "metadata": {},
   "outputs": [],
   "source": [
    "class AgentState(TypedDict):\n",
    "    messages: Annotated[list[AnyMessage],reduce_messages]\n"
   ]
  },
  {
   "cell_type": "code",
   "execution_count": 7,
   "id": "820269db",
   "metadata": {},
   "outputs": [
    {
     "name": "stdout",
     "output_type": "stream",
     "text": [
      "max_results=2 api_wrapper=TavilySearchAPIWrapper(tavily_api_key=SecretStr('**********'))\n"
     ]
    }
   ],
   "source": [
    "print(tool)"
   ]
  },
  {
   "cell_type": "code",
   "execution_count": 8,
   "id": "39c5dab1",
   "metadata": {},
   "outputs": [],
   "source": [
    "class Agent:\n",
    "    def __init__(self, model, tools, system=\"\", checkpointer=None):\n",
    "        self.system = system\n",
    "        graph = StateGraph(AgentState)\n",
    "        graph.add_node(\"llm\",self.call_openai)\n",
    "        graph.add_node(\"action\",self.take_action)\n",
    "        graph.add_conditional_edges(\"llm\", self.exists_action, {True:\"action\",False:END})\n",
    "        graph.add_edge(\"action\",\"llm\")\n",
    "        graph.set_entry_point(\"llm\")\n",
    "        self.graph = graph.compile(checkpointer=checkpointer,interrupt_before=[\"action\"])\n",
    "        self.tools = {t.name: t for t in tools}\n",
    "        self.model = model.bind_tools(tools)\n",
    "\n",
    "    def exists_action(self, state: AgentState):\n",
    "        print(f\"State : {state}\")\n",
    "        result = state[\"messages\"][-1]\n",
    "        return len(result.tool_calls) > 0\n",
    "    \n",
    "    def call_openai(self, state: AgentState):\n",
    "        messages = state[\"messages\"]\n",
    "        if self.system:\n",
    "            messages = [SystemMessage(content=self.system)] + messages\n",
    "        message = self.model.invoke(messages)\n",
    "        return {\"messages\":[message]}\n",
    "    \n",
    "    def take_action(self, state: AgentState):\n",
    "        tool_calls = state[\"messages\"][-1].tool_calls\n",
    "        results = []\n",
    "        for t in tool_calls:\n",
    "            print(f\"Calling {t}\")\n",
    "            result = self.tools[t[\"name\"]].invoke(t[\"args\"])\n",
    "            results.append(ToolMessage(tool_call_id=t[\"id\"],name=t['name'],content=str(result)))\n",
    "        print(\"Back to model\")\n",
    "        return {\"messages\": results}"
   ]
  },
  {
   "cell_type": "code",
   "execution_count": 9,
   "id": "39644e86",
   "metadata": {},
   "outputs": [],
   "source": [
    "prompt = \"\"\"You are a smart research assistant. Use the search engine to look up information. \\\n",
    "You are allowed to make multiple calls (either together or in sequence). \\\n",
    "Only look up information when you are sure of what you want. \\\n",
    "If you need to look up some information before asking a follow up question, you are allowed to do that!\n",
    "\"\"\"\n",
    "\n",
    "model = ChatOpenAI(model=\"gpt-3.5-turbo\",api_key=os.getenv(\"OPENAI_API_KEY\"))\n",
    "abot = Agent(model,[tool],system=prompt,checkpointer=checkpointer)"
   ]
  },
  {
   "cell_type": "code",
   "execution_count": 10,
   "id": "27174db5",
   "metadata": {},
   "outputs": [
    {
     "name": "stdout",
     "output_type": "stream",
     "text": [
      "State : {'messages': [HumanMessage(content='What is the weather in narasaropet', additional_kwargs={}, response_metadata={}, id='79236ced-ff5a-4226-814b-29eb0a6cd6d4'), AIMessage(content='', additional_kwargs={'tool_calls': [{'id': 'call_chOYtsfW1cWIDcUPWi0XE9Tc', 'function': {'arguments': '{\"query\":\"weather in Narasaraopet\"}', 'name': 'tavily_search_results_json'}, 'type': 'function'}], 'refusal': None}, response_metadata={'token_usage': {'completion_tokens': 25, 'prompt_tokens': 155, 'total_tokens': 180, 'completion_tokens_details': {'accepted_prediction_tokens': 0, 'audio_tokens': 0, 'reasoning_tokens': 0, 'rejected_prediction_tokens': 0}, 'prompt_tokens_details': {'audio_tokens': 0, 'cached_tokens': 0}}, 'model_name': 'gpt-3.5-turbo-0125', 'system_fingerprint': None, 'id': 'chatcmpl-BLDKYdWiDamkzN6KJhKB4LiZ3Dy6Q', 'finish_reason': 'tool_calls', 'logprobs': None}, id='run-f956db0b-e75e-4a0b-9d7a-5b0ca873b108-0', tool_calls=[{'name': 'tavily_search_results_json', 'args': {'query': 'weather in Narasaraopet'}, 'id': 'call_chOYtsfW1cWIDcUPWi0XE9Tc', 'type': 'tool_call'}], usage_metadata={'input_tokens': 155, 'output_tokens': 25, 'total_tokens': 180, 'input_token_details': {'audio': 0, 'cache_read': 0}, 'output_token_details': {'audio': 0, 'reasoning': 0}})]}\n",
      "{'messages': [AIMessage(content='', additional_kwargs={'tool_calls': [{'id': 'call_chOYtsfW1cWIDcUPWi0XE9Tc', 'function': {'arguments': '{\"query\":\"weather in Narasaraopet\"}', 'name': 'tavily_search_results_json'}, 'type': 'function'}], 'refusal': None}, response_metadata={'token_usage': {'completion_tokens': 25, 'prompt_tokens': 155, 'total_tokens': 180, 'completion_tokens_details': {'accepted_prediction_tokens': 0, 'audio_tokens': 0, 'reasoning_tokens': 0, 'rejected_prediction_tokens': 0}, 'prompt_tokens_details': {'audio_tokens': 0, 'cached_tokens': 0}}, 'model_name': 'gpt-3.5-turbo-0125', 'system_fingerprint': None, 'id': 'chatcmpl-BLDKYdWiDamkzN6KJhKB4LiZ3Dy6Q', 'finish_reason': 'tool_calls', 'logprobs': None}, id='run-f956db0b-e75e-4a0b-9d7a-5b0ca873b108-0', tool_calls=[{'name': 'tavily_search_results_json', 'args': {'query': 'weather in Narasaraopet'}, 'id': 'call_chOYtsfW1cWIDcUPWi0XE9Tc', 'type': 'tool_call'}], usage_metadata={'input_tokens': 155, 'output_tokens': 25, 'total_tokens': 180, 'input_token_details': {'audio': 0, 'cache_read': 0}, 'output_token_details': {'audio': 0, 'reasoning': 0}})]}\n",
      "()\n"
     ]
    }
   ],
   "source": [
    "messages = [HumanMessage(content=\"What is the weather in narasaropet\")]\n",
    "thread = {\"configurable\":{\"thread_id\":\"1\"}}\n",
    "for event in abot.graph.stream({\"messages\": messages}, thread):\n",
    "    for v in event.values():\n",
    "        print(v)"
   ]
  },
  {
   "cell_type": "code",
   "execution_count": 11,
   "id": "57b2d84a",
   "metadata": {},
   "outputs": [
    {
     "data": {
      "text/plain": [
       "StateSnapshot(values={'messages': [HumanMessage(content='What is the weather in narasaropet', additional_kwargs={}, response_metadata={}, id='79236ced-ff5a-4226-814b-29eb0a6cd6d4'), AIMessage(content='', additional_kwargs={'tool_calls': [{'id': 'call_chOYtsfW1cWIDcUPWi0XE9Tc', 'function': {'arguments': '{\"query\":\"weather in Narasaraopet\"}', 'name': 'tavily_search_results_json'}, 'type': 'function'}], 'refusal': None}, response_metadata={'token_usage': {'completion_tokens': 25, 'prompt_tokens': 155, 'total_tokens': 180, 'completion_tokens_details': {'accepted_prediction_tokens': 0, 'audio_tokens': 0, 'reasoning_tokens': 0, 'rejected_prediction_tokens': 0}, 'prompt_tokens_details': {'audio_tokens': 0, 'cached_tokens': 0}}, 'model_name': 'gpt-3.5-turbo-0125', 'system_fingerprint': None, 'id': 'chatcmpl-BLDKYdWiDamkzN6KJhKB4LiZ3Dy6Q', 'finish_reason': 'tool_calls', 'logprobs': None}, id='run-f956db0b-e75e-4a0b-9d7a-5b0ca873b108-0', tool_calls=[{'name': 'tavily_search_results_json', 'args': {'query': 'weather in Narasaraopet'}, 'id': 'call_chOYtsfW1cWIDcUPWi0XE9Tc', 'type': 'tool_call'}], usage_metadata={'input_tokens': 155, 'output_tokens': 25, 'total_tokens': 180, 'input_token_details': {'audio': 0, 'cache_read': 0}, 'output_token_details': {'audio': 0, 'reasoning': 0}})]}, next=('action',), config={'configurable': {'thread_id': '1', 'checkpoint_ns': '', 'checkpoint_id': '1f017021-dfa1-614e-8001-5394a7fb7156'}}, metadata={'source': 'loop', 'writes': {'llm': {'messages': [AIMessage(content='', additional_kwargs={'tool_calls': [{'id': 'call_chOYtsfW1cWIDcUPWi0XE9Tc', 'function': {'arguments': '{\"query\":\"weather in Narasaraopet\"}', 'name': 'tavily_search_results_json'}, 'type': 'function'}], 'refusal': None}, response_metadata={'token_usage': {'completion_tokens': 25, 'prompt_tokens': 155, 'total_tokens': 180, 'completion_tokens_details': {'accepted_prediction_tokens': 0, 'audio_tokens': 0, 'reasoning_tokens': 0, 'rejected_prediction_tokens': 0}, 'prompt_tokens_details': {'audio_tokens': 0, 'cached_tokens': 0}}, 'model_name': 'gpt-3.5-turbo-0125', 'system_fingerprint': None, 'id': 'chatcmpl-BLDKYdWiDamkzN6KJhKB4LiZ3Dy6Q', 'finish_reason': 'tool_calls', 'logprobs': None}, id='run-f956db0b-e75e-4a0b-9d7a-5b0ca873b108-0', tool_calls=[{'name': 'tavily_search_results_json', 'args': {'query': 'weather in Narasaraopet'}, 'id': 'call_chOYtsfW1cWIDcUPWi0XE9Tc', 'type': 'tool_call'}], usage_metadata={'input_tokens': 155, 'output_tokens': 25, 'total_tokens': 180, 'input_token_details': {'audio': 0, 'cache_read': 0}, 'output_token_details': {'audio': 0, 'reasoning': 0}})]}}, 'step': 1, 'parents': {}, 'thread_id': '1'}, created_at='2025-04-11T18:23:50.878632+00:00', parent_config={'configurable': {'thread_id': '1', 'checkpoint_ns': '', 'checkpoint_id': '1f017021-d0bf-6d7e-8000-7b5745fce76d'}}, tasks=(PregelTask(id='9fbb020d-ff16-f4e1-c577-b3e071d85f92', name='action', path=('__pregel_pull', 'action'), error=None, interrupts=(), state=None, result=None),))"
      ]
     },
     "execution_count": 11,
     "metadata": {},
     "output_type": "execute_result"
    }
   ],
   "source": [
    "abot.graph.get_state(thread)"
   ]
  },
  {
   "cell_type": "code",
   "execution_count": 12,
   "id": "566be4d6",
   "metadata": {},
   "outputs": [
    {
     "data": {
      "text/plain": [
       "('action',)"
      ]
     },
     "execution_count": 12,
     "metadata": {},
     "output_type": "execute_result"
    }
   ],
   "source": [
    "abot.graph.get_state(thread).next"
   ]
  },
  {
   "cell_type": "code",
   "execution_count": 13,
   "id": "1d841ca6",
   "metadata": {},
   "outputs": [
    {
     "name": "stdout",
     "output_type": "stream",
     "text": [
      "Calling {'name': 'tavily_search_results_json', 'args': {'query': 'weather in Narasaraopet'}, 'id': 'call_chOYtsfW1cWIDcUPWi0XE9Tc', 'type': 'tool_call'}\n",
      "Back to model\n",
      "{'messages': [ToolMessage(content=\"[{'title': 'Narasaraopet weather in April 2025 ⋆ Narasaraopet temperature in ...', 'url': 'https://www.meteoprog.com/weather/Narasaraopet/month/april/', 'content': 'Narasaraopet (India) weather in April 2025 ☀️ Accurate weather forecast for Narasaraopet in ... Monthly weather forecast in Narasaraopet ... 11 Apr. +38°+27°. 12', 'score': 0.9304142}, {'title': 'Narasaraopet 14 Day Extended Forecast - Weather - Time and Date', 'url': 'https://www.timeanddate.com/weather/@1261848/ext', 'content': 'Apr 11, 106 / 80 °F, Showers early. Mostly cloudy. 108 °F, 8 mph, ↑, 26%, 21 ... * Updated Monday, April 7, 2025 8:54:04 pm Narasaraopet time - Weather by', 'score': 0.8891543}]\", name='tavily_search_results_json', id='b2b9d42d-a74d-4713-bbdc-4b73c206af6d', tool_call_id='call_chOYtsfW1cWIDcUPWi0XE9Tc')]}\n",
      "State : {'messages': [HumanMessage(content='What is the weather in narasaropet', additional_kwargs={}, response_metadata={}, id='79236ced-ff5a-4226-814b-29eb0a6cd6d4'), AIMessage(content='', additional_kwargs={'tool_calls': [{'id': 'call_chOYtsfW1cWIDcUPWi0XE9Tc', 'function': {'arguments': '{\"query\":\"weather in Narasaraopet\"}', 'name': 'tavily_search_results_json'}, 'type': 'function'}], 'refusal': None}, response_metadata={'token_usage': {'completion_tokens': 25, 'prompt_tokens': 155, 'total_tokens': 180, 'completion_tokens_details': {'accepted_prediction_tokens': 0, 'audio_tokens': 0, 'reasoning_tokens': 0, 'rejected_prediction_tokens': 0}, 'prompt_tokens_details': {'audio_tokens': 0, 'cached_tokens': 0}}, 'model_name': 'gpt-3.5-turbo-0125', 'system_fingerprint': None, 'id': 'chatcmpl-BLDKYdWiDamkzN6KJhKB4LiZ3Dy6Q', 'finish_reason': 'tool_calls', 'logprobs': None}, id='run-f956db0b-e75e-4a0b-9d7a-5b0ca873b108-0', tool_calls=[{'name': 'tavily_search_results_json', 'args': {'query': 'weather in Narasaraopet'}, 'id': 'call_chOYtsfW1cWIDcUPWi0XE9Tc', 'type': 'tool_call'}], usage_metadata={'input_tokens': 155, 'output_tokens': 25, 'total_tokens': 180, 'input_token_details': {'audio': 0, 'cache_read': 0}, 'output_token_details': {'audio': 0, 'reasoning': 0}}), ToolMessage(content=\"[{'title': 'Narasaraopet weather in April 2025 ⋆ Narasaraopet temperature in ...', 'url': 'https://www.meteoprog.com/weather/Narasaraopet/month/april/', 'content': 'Narasaraopet (India) weather in April 2025 ☀️ Accurate weather forecast for Narasaraopet in ... Monthly weather forecast in Narasaraopet ... 11 Apr. +38°+27°. 12', 'score': 0.9304142}, {'title': 'Narasaraopet 14 Day Extended Forecast - Weather - Time and Date', 'url': 'https://www.timeanddate.com/weather/@1261848/ext', 'content': 'Apr 11, 106 / 80 °F, Showers early. Mostly cloudy. 108 °F, 8 mph, ↑, 26%, 21 ... * Updated Monday, April 7, 2025 8:54:04 pm Narasaraopet time - Weather by', 'score': 0.8891543}]\", name='tavily_search_results_json', id='b2b9d42d-a74d-4713-bbdc-4b73c206af6d', tool_call_id='call_chOYtsfW1cWIDcUPWi0XE9Tc'), AIMessage(content='The weather in Narasaraopet shows a temperature of 106°F to 80°F with showers early and mostly cloudy conditions. If you need more detailed information, I can look up a specific weather forecast for Narasaraopet.', additional_kwargs={'refusal': None}, response_metadata={'token_usage': {'completion_tokens': 51, 'prompt_tokens': 425, 'total_tokens': 476, 'completion_tokens_details': {'accepted_prediction_tokens': 0, 'audio_tokens': 0, 'reasoning_tokens': 0, 'rejected_prediction_tokens': 0}, 'prompt_tokens_details': {'audio_tokens': 0, 'cached_tokens': 0}}, 'model_name': 'gpt-3.5-turbo-0125', 'system_fingerprint': None, 'id': 'chatcmpl-BLDNAgxXWePd9Fdv5NkkeUXhLuFxo', 'finish_reason': 'stop', 'logprobs': None}, id='run-1432c11a-2a53-492a-afc2-aeb5d94d0deb-0', usage_metadata={'input_tokens': 425, 'output_tokens': 51, 'total_tokens': 476, 'input_token_details': {'audio': 0, 'cache_read': 0}, 'output_token_details': {'audio': 0, 'reasoning': 0}})]}\n",
      "{'messages': [AIMessage(content='The weather in Narasaraopet shows a temperature of 106°F to 80°F with showers early and mostly cloudy conditions. If you need more detailed information, I can look up a specific weather forecast for Narasaraopet.', additional_kwargs={'refusal': None}, response_metadata={'token_usage': {'completion_tokens': 51, 'prompt_tokens': 425, 'total_tokens': 476, 'completion_tokens_details': {'accepted_prediction_tokens': 0, 'audio_tokens': 0, 'reasoning_tokens': 0, 'rejected_prediction_tokens': 0}, 'prompt_tokens_details': {'audio_tokens': 0, 'cached_tokens': 0}}, 'model_name': 'gpt-3.5-turbo-0125', 'system_fingerprint': None, 'id': 'chatcmpl-BLDNAgxXWePd9Fdv5NkkeUXhLuFxo', 'finish_reason': 'stop', 'logprobs': None}, id='run-1432c11a-2a53-492a-afc2-aeb5d94d0deb-0', usage_metadata={'input_tokens': 425, 'output_tokens': 51, 'total_tokens': 476, 'input_token_details': {'audio': 0, 'cache_read': 0}, 'output_token_details': {'audio': 0, 'reasoning': 0}})]}\n"
     ]
    }
   ],
   "source": [
    "for event in abot.graph.stream(None, thread):\n",
    "    for v in event.values():\n",
    "        print(v)"
   ]
  },
  {
   "cell_type": "code",
   "execution_count": 14,
   "id": "93c48c7c",
   "metadata": {},
   "outputs": [
    {
     "data": {
      "text/plain": [
       "StateSnapshot(values={'messages': [HumanMessage(content='What is the weather in narasaropet', additional_kwargs={}, response_metadata={}, id='79236ced-ff5a-4226-814b-29eb0a6cd6d4'), AIMessage(content='', additional_kwargs={'tool_calls': [{'id': 'call_chOYtsfW1cWIDcUPWi0XE9Tc', 'function': {'arguments': '{\"query\":\"weather in Narasaraopet\"}', 'name': 'tavily_search_results_json'}, 'type': 'function'}], 'refusal': None}, response_metadata={'token_usage': {'completion_tokens': 25, 'prompt_tokens': 155, 'total_tokens': 180, 'completion_tokens_details': {'accepted_prediction_tokens': 0, 'audio_tokens': 0, 'reasoning_tokens': 0, 'rejected_prediction_tokens': 0}, 'prompt_tokens_details': {'audio_tokens': 0, 'cached_tokens': 0}}, 'model_name': 'gpt-3.5-turbo-0125', 'system_fingerprint': None, 'id': 'chatcmpl-BLDKYdWiDamkzN6KJhKB4LiZ3Dy6Q', 'finish_reason': 'tool_calls', 'logprobs': None}, id='run-f956db0b-e75e-4a0b-9d7a-5b0ca873b108-0', tool_calls=[{'name': 'tavily_search_results_json', 'args': {'query': 'weather in Narasaraopet'}, 'id': 'call_chOYtsfW1cWIDcUPWi0XE9Tc', 'type': 'tool_call'}], usage_metadata={'input_tokens': 155, 'output_tokens': 25, 'total_tokens': 180, 'input_token_details': {'audio': 0, 'cache_read': 0}, 'output_token_details': {'audio': 0, 'reasoning': 0}}), ToolMessage(content=\"[{'title': 'Narasaraopet weather in April 2025 ⋆ Narasaraopet temperature in ...', 'url': 'https://www.meteoprog.com/weather/Narasaraopet/month/april/', 'content': 'Narasaraopet (India) weather in April 2025 ☀️ Accurate weather forecast for Narasaraopet in ... Monthly weather forecast in Narasaraopet ... 11 Apr. +38°+27°. 12', 'score': 0.9304142}, {'title': 'Narasaraopet 14 Day Extended Forecast - Weather - Time and Date', 'url': 'https://www.timeanddate.com/weather/@1261848/ext', 'content': 'Apr 11, 106 / 80 °F, Showers early. Mostly cloudy. 108 °F, 8 mph, ↑, 26%, 21 ... * Updated Monday, April 7, 2025 8:54:04 pm Narasaraopet time - Weather by', 'score': 0.8891543}]\", name='tavily_search_results_json', id='b2b9d42d-a74d-4713-bbdc-4b73c206af6d', tool_call_id='call_chOYtsfW1cWIDcUPWi0XE9Tc'), AIMessage(content='The weather in Narasaraopet shows a temperature of 106°F to 80°F with showers early and mostly cloudy conditions. If you need more detailed information, I can look up a specific weather forecast for Narasaraopet.', additional_kwargs={'refusal': None}, response_metadata={'token_usage': {'completion_tokens': 51, 'prompt_tokens': 425, 'total_tokens': 476, 'completion_tokens_details': {'accepted_prediction_tokens': 0, 'audio_tokens': 0, 'reasoning_tokens': 0, 'rejected_prediction_tokens': 0}, 'prompt_tokens_details': {'audio_tokens': 0, 'cached_tokens': 0}}, 'model_name': 'gpt-3.5-turbo-0125', 'system_fingerprint': None, 'id': 'chatcmpl-BLDNAgxXWePd9Fdv5NkkeUXhLuFxo', 'finish_reason': 'stop', 'logprobs': None}, id='run-1432c11a-2a53-492a-afc2-aeb5d94d0deb-0', usage_metadata={'input_tokens': 425, 'output_tokens': 51, 'total_tokens': 476, 'input_token_details': {'audio': 0, 'cache_read': 0}, 'output_token_details': {'audio': 0, 'reasoning': 0}})]}, next=(), config={'configurable': {'thread_id': '1', 'checkpoint_ns': '', 'checkpoint_id': '1f017027-ef5e-68ba-8003-b324e7125456'}}, metadata={'source': 'loop', 'writes': {'llm': {'messages': [AIMessage(content='The weather in Narasaraopet shows a temperature of 106°F to 80°F with showers early and mostly cloudy conditions. If you need more detailed information, I can look up a specific weather forecast for Narasaraopet.', additional_kwargs={'refusal': None}, response_metadata={'token_usage': {'completion_tokens': 51, 'prompt_tokens': 425, 'total_tokens': 476, 'completion_tokens_details': {'accepted_prediction_tokens': 0, 'audio_tokens': 0, 'reasoning_tokens': 0, 'rejected_prediction_tokens': 0}, 'prompt_tokens_details': {'audio_tokens': 0, 'cached_tokens': 0}}, 'model_name': 'gpt-3.5-turbo-0125', 'system_fingerprint': None, 'id': 'chatcmpl-BLDNAgxXWePd9Fdv5NkkeUXhLuFxo', 'finish_reason': 'stop', 'logprobs': None}, id='run-1432c11a-2a53-492a-afc2-aeb5d94d0deb-0', usage_metadata={'input_tokens': 425, 'output_tokens': 51, 'total_tokens': 476, 'input_token_details': {'audio': 0, 'cache_read': 0}, 'output_token_details': {'audio': 0, 'reasoning': 0}})]}}, 'step': 3, 'parents': {}, 'thread_id': '1'}, created_at='2025-04-11T18:26:33.590360+00:00', parent_config={'configurable': {'thread_id': '1', 'checkpoint_ns': '', 'checkpoint_id': '1f017027-dfb1-616a-8002-2a88efd2267c'}}, tasks=())"
      ]
     },
     "execution_count": 14,
     "metadata": {},
     "output_type": "execute_result"
    }
   ],
   "source": [
    "abot.graph.get_state(thread)"
   ]
  },
  {
   "cell_type": "code",
   "execution_count": 15,
   "id": "8249d338",
   "metadata": {},
   "outputs": [
    {
     "data": {
      "text/plain": [
       "()"
      ]
     },
     "execution_count": 15,
     "metadata": {},
     "output_type": "execute_result"
    }
   ],
   "source": [
    "abot.graph.get_state(thread).next"
   ]
  },
  {
   "cell_type": "code",
   "execution_count": 16,
   "id": "db0f493a",
   "metadata": {},
   "outputs": [
    {
     "name": "stdout",
     "output_type": "stream",
     "text": [
      "State : {'messages': [HumanMessage(content='What is the weather in narasaropet', additional_kwargs={}, response_metadata={}, id='79236ced-ff5a-4226-814b-29eb0a6cd6d4'), AIMessage(content='', additional_kwargs={'tool_calls': [{'id': 'call_chOYtsfW1cWIDcUPWi0XE9Tc', 'function': {'arguments': '{\"query\":\"weather in Narasaraopet\"}', 'name': 'tavily_search_results_json'}, 'type': 'function'}], 'refusal': None}, response_metadata={'token_usage': {'completion_tokens': 25, 'prompt_tokens': 155, 'total_tokens': 180, 'completion_tokens_details': {'accepted_prediction_tokens': 0, 'audio_tokens': 0, 'reasoning_tokens': 0, 'rejected_prediction_tokens': 0}, 'prompt_tokens_details': {'audio_tokens': 0, 'cached_tokens': 0}}, 'model_name': 'gpt-3.5-turbo-0125', 'system_fingerprint': None, 'id': 'chatcmpl-BLDKYdWiDamkzN6KJhKB4LiZ3Dy6Q', 'finish_reason': 'tool_calls', 'logprobs': None}, id='run-f956db0b-e75e-4a0b-9d7a-5b0ca873b108-0', tool_calls=[{'name': 'tavily_search_results_json', 'args': {'query': 'weather in Narasaraopet'}, 'id': 'call_chOYtsfW1cWIDcUPWi0XE9Tc', 'type': 'tool_call'}], usage_metadata={'input_tokens': 155, 'output_tokens': 25, 'total_tokens': 180, 'input_token_details': {'audio': 0, 'cache_read': 0}, 'output_token_details': {'audio': 0, 'reasoning': 0}}), ToolMessage(content=\"[{'title': 'Narasaraopet weather in April 2025 ⋆ Narasaraopet temperature in ...', 'url': 'https://www.meteoprog.com/weather/Narasaraopet/month/april/', 'content': 'Narasaraopet (India) weather in April 2025 ☀️ Accurate weather forecast for Narasaraopet in ... Monthly weather forecast in Narasaraopet ... 11 Apr. +38°+27°. 12', 'score': 0.9304142}, {'title': 'Narasaraopet 14 Day Extended Forecast - Weather - Time and Date', 'url': 'https://www.timeanddate.com/weather/@1261848/ext', 'content': 'Apr 11, 106 / 80 °F, Showers early. Mostly cloudy. 108 °F, 8 mph, ↑, 26%, 21 ... * Updated Monday, April 7, 2025 8:54:04 pm Narasaraopet time - Weather by', 'score': 0.8891543}]\", name='tavily_search_results_json', id='b2b9d42d-a74d-4713-bbdc-4b73c206af6d', tool_call_id='call_chOYtsfW1cWIDcUPWi0XE9Tc'), AIMessage(content='The weather in Narasaraopet shows a temperature of 106°F to 80°F with showers early and mostly cloudy conditions. If you need more detailed information, I can look up a specific weather forecast for Narasaraopet.', additional_kwargs={'refusal': None}, response_metadata={'token_usage': {'completion_tokens': 51, 'prompt_tokens': 425, 'total_tokens': 476, 'completion_tokens_details': {'accepted_prediction_tokens': 0, 'audio_tokens': 0, 'reasoning_tokens': 0, 'rejected_prediction_tokens': 0}, 'prompt_tokens_details': {'audio_tokens': 0, 'cached_tokens': 0}}, 'model_name': 'gpt-3.5-turbo-0125', 'system_fingerprint': None, 'id': 'chatcmpl-BLDNAgxXWePd9Fdv5NkkeUXhLuFxo', 'finish_reason': 'stop', 'logprobs': None}, id='run-1432c11a-2a53-492a-afc2-aeb5d94d0deb-0', usage_metadata={'input_tokens': 425, 'output_tokens': 51, 'total_tokens': 476, 'input_token_details': {'audio': 0, 'cache_read': 0}, 'output_token_details': {'audio': 0, 'reasoning': 0}}), HumanMessage(content='How is weather in kondapur hyderabad', additional_kwargs={}, response_metadata={}, id='393db947-b569-4a91-abb2-b5aa48c73b13'), AIMessage(content='', additional_kwargs={'tool_calls': [{'id': 'call_AF8WS6x7cwpSdYSzBKOGKErB', 'function': {'arguments': '{\"query\":\"weather in Kondapur Hyderabad\"}', 'name': 'tavily_search_results_json'}, 'type': 'function'}], 'refusal': None}, response_metadata={'token_usage': {'completion_tokens': 24, 'prompt_tokens': 490, 'total_tokens': 514, 'completion_tokens_details': {'accepted_prediction_tokens': 0, 'audio_tokens': 0, 'reasoning_tokens': 0, 'rejected_prediction_tokens': 0}, 'prompt_tokens_details': {'audio_tokens': 0, 'cached_tokens': 0}}, 'model_name': 'gpt-3.5-turbo-0125', 'system_fingerprint': None, 'id': 'chatcmpl-BLDVasAVIsYErmbmqRQsft40Pu4xX', 'finish_reason': 'tool_calls', 'logprobs': None}, id='run-f617f370-bd9b-410c-8887-a3c32eda0455-0', tool_calls=[{'name': 'tavily_search_results_json', 'args': {'query': 'weather in Kondapur Hyderabad'}, 'id': 'call_AF8WS6x7cwpSdYSzBKOGKErB', 'type': 'tool_call'}], usage_metadata={'input_tokens': 490, 'output_tokens': 24, 'total_tokens': 514, 'input_token_details': {'audio': 0, 'cache_read': 0}, 'output_token_details': {'audio': 0, 'reasoning': 0}})]}\n",
      "{'messages': [AIMessage(content='', additional_kwargs={'tool_calls': [{'id': 'call_AF8WS6x7cwpSdYSzBKOGKErB', 'function': {'arguments': '{\"query\":\"weather in Kondapur Hyderabad\"}', 'name': 'tavily_search_results_json'}, 'type': 'function'}], 'refusal': None}, response_metadata={'token_usage': {'completion_tokens': 24, 'prompt_tokens': 490, 'total_tokens': 514, 'completion_tokens_details': {'accepted_prediction_tokens': 0, 'audio_tokens': 0, 'reasoning_tokens': 0, 'rejected_prediction_tokens': 0}, 'prompt_tokens_details': {'audio_tokens': 0, 'cached_tokens': 0}}, 'model_name': 'gpt-3.5-turbo-0125', 'system_fingerprint': None, 'id': 'chatcmpl-BLDVasAVIsYErmbmqRQsft40Pu4xX', 'finish_reason': 'tool_calls', 'logprobs': None}, id='run-f617f370-bd9b-410c-8887-a3c32eda0455-0', tool_calls=[{'name': 'tavily_search_results_json', 'args': {'query': 'weather in Kondapur Hyderabad'}, 'id': 'call_AF8WS6x7cwpSdYSzBKOGKErB', 'type': 'tool_call'}], usage_metadata={'input_tokens': 490, 'output_tokens': 24, 'total_tokens': 514, 'input_token_details': {'audio': 0, 'cache_read': 0}, 'output_token_details': {'audio': 0, 'reasoning': 0}})]}\n",
      "()\n",
      "----StateSnapshot(values={'messages': [HumanMessage(content='What is the weather in narasaropet', additional_kwargs={}, response_metadata={}, id='79236ced-ff5a-4226-814b-29eb0a6cd6d4'), AIMessage(content='', additional_kwargs={'tool_calls': [{'id': 'call_chOYtsfW1cWIDcUPWi0XE9Tc', 'function': {'arguments': '{\"query\":\"weather in Narasaraopet\"}', 'name': 'tavily_search_results_json'}, 'type': 'function'}], 'refusal': None}, response_metadata={'token_usage': {'completion_tokens': 25, 'prompt_tokens': 155, 'total_tokens': 180, 'completion_tokens_details': {'accepted_prediction_tokens': 0, 'audio_tokens': 0, 'reasoning_tokens': 0, 'rejected_prediction_tokens': 0}, 'prompt_tokens_details': {'audio_tokens': 0, 'cached_tokens': 0}}, 'model_name': 'gpt-3.5-turbo-0125', 'system_fingerprint': None, 'id': 'chatcmpl-BLDKYdWiDamkzN6KJhKB4LiZ3Dy6Q', 'finish_reason': 'tool_calls', 'logprobs': None}, id='run-f956db0b-e75e-4a0b-9d7a-5b0ca873b108-0', tool_calls=[{'name': 'tavily_search_results_json', 'args': {'query': 'weather in Narasaraopet'}, 'id': 'call_chOYtsfW1cWIDcUPWi0XE9Tc', 'type': 'tool_call'}], usage_metadata={'input_tokens': 155, 'output_tokens': 25, 'total_tokens': 180, 'input_token_details': {'audio': 0, 'cache_read': 0}, 'output_token_details': {'audio': 0, 'reasoning': 0}}), ToolMessage(content=\"[{'title': 'Narasaraopet weather in April 2025 ⋆ Narasaraopet temperature in ...', 'url': 'https://www.meteoprog.com/weather/Narasaraopet/month/april/', 'content': 'Narasaraopet (India) weather in April 2025 ☀️ Accurate weather forecast for Narasaraopet in ... Monthly weather forecast in Narasaraopet ... 11 Apr. +38°+27°. 12', 'score': 0.9304142}, {'title': 'Narasaraopet 14 Day Extended Forecast - Weather - Time and Date', 'url': 'https://www.timeanddate.com/weather/@1261848/ext', 'content': 'Apr 11, 106 / 80 °F, Showers early. Mostly cloudy. 108 °F, 8 mph, ↑, 26%, 21 ... * Updated Monday, April 7, 2025 8:54:04 pm Narasaraopet time - Weather by', 'score': 0.8891543}]\", name='tavily_search_results_json', id='b2b9d42d-a74d-4713-bbdc-4b73c206af6d', tool_call_id='call_chOYtsfW1cWIDcUPWi0XE9Tc'), AIMessage(content='The weather in Narasaraopet shows a temperature of 106°F to 80°F with showers early and mostly cloudy conditions. If you need more detailed information, I can look up a specific weather forecast for Narasaraopet.', additional_kwargs={'refusal': None}, response_metadata={'token_usage': {'completion_tokens': 51, 'prompt_tokens': 425, 'total_tokens': 476, 'completion_tokens_details': {'accepted_prediction_tokens': 0, 'audio_tokens': 0, 'reasoning_tokens': 0, 'rejected_prediction_tokens': 0}, 'prompt_tokens_details': {'audio_tokens': 0, 'cached_tokens': 0}}, 'model_name': 'gpt-3.5-turbo-0125', 'system_fingerprint': None, 'id': 'chatcmpl-BLDNAgxXWePd9Fdv5NkkeUXhLuFxo', 'finish_reason': 'stop', 'logprobs': None}, id='run-1432c11a-2a53-492a-afc2-aeb5d94d0deb-0', usage_metadata={'input_tokens': 425, 'output_tokens': 51, 'total_tokens': 476, 'input_token_details': {'audio': 0, 'cache_read': 0}, 'output_token_details': {'audio': 0, 'reasoning': 0}}), HumanMessage(content='How is weather in kondapur hyderabad', additional_kwargs={}, response_metadata={}, id='393db947-b569-4a91-abb2-b5aa48c73b13'), AIMessage(content='', additional_kwargs={'tool_calls': [{'id': 'call_AF8WS6x7cwpSdYSzBKOGKErB', 'function': {'arguments': '{\"query\":\"weather in Kondapur Hyderabad\"}', 'name': 'tavily_search_results_json'}, 'type': 'function'}], 'refusal': None}, response_metadata={'token_usage': {'completion_tokens': 24, 'prompt_tokens': 490, 'total_tokens': 514, 'completion_tokens_details': {'accepted_prediction_tokens': 0, 'audio_tokens': 0, 'reasoning_tokens': 0, 'rejected_prediction_tokens': 0}, 'prompt_tokens_details': {'audio_tokens': 0, 'cached_tokens': 0}}, 'model_name': 'gpt-3.5-turbo-0125', 'system_fingerprint': None, 'id': 'chatcmpl-BLDVasAVIsYErmbmqRQsft40Pu4xX', 'finish_reason': 'tool_calls', 'logprobs': None}, id='run-f617f370-bd9b-410c-8887-a3c32eda0455-0', tool_calls=[{'name': 'tavily_search_results_json', 'args': {'query': 'weather in Kondapur Hyderabad'}, 'id': 'call_AF8WS6x7cwpSdYSzBKOGKErB', 'type': 'tool_call'}], usage_metadata={'input_tokens': 490, 'output_tokens': 24, 'total_tokens': 514, 'input_token_details': {'audio': 0, 'cache_read': 0}, 'output_token_details': {'audio': 0, 'reasoning': 0}})]}, next=('action',), config={'configurable': {'thread_id': '1', 'checkpoint_ns': '', 'checkpoint_id': '1f01703b-592f-661e-8006-6a57c462be52'}}, metadata={'source': 'loop', 'writes': {'llm': {'messages': [AIMessage(content='', additional_kwargs={'tool_calls': [{'id': 'call_AF8WS6x7cwpSdYSzBKOGKErB', 'function': {'arguments': '{\"query\":\"weather in Kondapur Hyderabad\"}', 'name': 'tavily_search_results_json'}, 'type': 'function'}], 'refusal': None}, response_metadata={'token_usage': {'completion_tokens': 24, 'prompt_tokens': 490, 'total_tokens': 514, 'completion_tokens_details': {'accepted_prediction_tokens': 0, 'audio_tokens': 0, 'reasoning_tokens': 0, 'rejected_prediction_tokens': 0}, 'prompt_tokens_details': {'audio_tokens': 0, 'cached_tokens': 0}}, 'model_name': 'gpt-3.5-turbo-0125', 'system_fingerprint': None, 'id': 'chatcmpl-BLDVasAVIsYErmbmqRQsft40Pu4xX', 'finish_reason': 'tool_calls', 'logprobs': None}, id='run-f617f370-bd9b-410c-8887-a3c32eda0455-0', tool_calls=[{'name': 'tavily_search_results_json', 'args': {'query': 'weather in Kondapur Hyderabad'}, 'id': 'call_AF8WS6x7cwpSdYSzBKOGKErB', 'type': 'tool_call'}], usage_metadata={'input_tokens': 490, 'output_tokens': 24, 'total_tokens': 514, 'input_token_details': {'audio': 0, 'cache_read': 0}, 'output_token_details': {'audio': 0, 'reasoning': 0}})]}}, 'step': 6, 'parents': {}, 'thread_id': '1'}, created_at='2025-04-11T18:35:14.713319+00:00', parent_config={'configurable': {'thread_id': '1', 'checkpoint_ns': '', 'checkpoint_id': '1f01703b-4b94-632e-8005-821c9a51bf62'}}, tasks=(PregelTask(id='113e6a93-a78f-e2d1-e7c8-6f7fc0c6b563', name='action', path=('__pregel_pull', 'action'), error=None, interrupts=(), state=None, result=None),))----\n",
      "Calling {'name': 'tavily_search_results_json', 'args': {'query': 'weather in Kondapur Hyderabad'}, 'id': 'call_AF8WS6x7cwpSdYSzBKOGKErB', 'type': 'tool_call'}\n",
      "Back to model\n",
      "{'messages': [ToolMessage(content=\"[{'title': 'Kondapur - Weather Forecast Maps - Ventusky', 'url': 'https://www.ventusky.com/kondapur', 'content': 'Sun and Moon ; 2025/04/11, —, 04:56, 17:19, 96 % to 99 % ; 2025/04/12, —, 05:28, 18:06, 99 % to 100 % ; 2025/04/13, —, 06:00, 18:54, 100 % to 99 %.', 'score': 0.9016528}, {'title': 'kondapur - Skymet Weather', 'url': 'https://www.skymetweather.com/forecast/weather/india/telangana/rangareddy/kondapur', 'content': 'Friday, 11 Apr 2025. 37°. slash 25°c. weather icon partly cloudy. icon humidity ... Copyright © 2025 Skymet Weather. All Rights Reserved.', 'score': 0.8958969}]\", name='tavily_search_results_json', id='46b1ad0b-aec9-4b78-8258-41e3a58919eb', tool_call_id='call_AF8WS6x7cwpSdYSzBKOGKErB')]}\n",
      "State : {'messages': [HumanMessage(content='What is the weather in narasaropet', additional_kwargs={}, response_metadata={}, id='79236ced-ff5a-4226-814b-29eb0a6cd6d4'), AIMessage(content='', additional_kwargs={'tool_calls': [{'id': 'call_chOYtsfW1cWIDcUPWi0XE9Tc', 'function': {'arguments': '{\"query\":\"weather in Narasaraopet\"}', 'name': 'tavily_search_results_json'}, 'type': 'function'}], 'refusal': None}, response_metadata={'token_usage': {'completion_tokens': 25, 'prompt_tokens': 155, 'total_tokens': 180, 'completion_tokens_details': {'accepted_prediction_tokens': 0, 'audio_tokens': 0, 'reasoning_tokens': 0, 'rejected_prediction_tokens': 0}, 'prompt_tokens_details': {'audio_tokens': 0, 'cached_tokens': 0}}, 'model_name': 'gpt-3.5-turbo-0125', 'system_fingerprint': None, 'id': 'chatcmpl-BLDKYdWiDamkzN6KJhKB4LiZ3Dy6Q', 'finish_reason': 'tool_calls', 'logprobs': None}, id='run-f956db0b-e75e-4a0b-9d7a-5b0ca873b108-0', tool_calls=[{'name': 'tavily_search_results_json', 'args': {'query': 'weather in Narasaraopet'}, 'id': 'call_chOYtsfW1cWIDcUPWi0XE9Tc', 'type': 'tool_call'}], usage_metadata={'input_tokens': 155, 'output_tokens': 25, 'total_tokens': 180, 'input_token_details': {'audio': 0, 'cache_read': 0}, 'output_token_details': {'audio': 0, 'reasoning': 0}}), ToolMessage(content=\"[{'title': 'Narasaraopet weather in April 2025 ⋆ Narasaraopet temperature in ...', 'url': 'https://www.meteoprog.com/weather/Narasaraopet/month/april/', 'content': 'Narasaraopet (India) weather in April 2025 ☀️ Accurate weather forecast for Narasaraopet in ... Monthly weather forecast in Narasaraopet ... 11 Apr. +38°+27°. 12', 'score': 0.9304142}, {'title': 'Narasaraopet 14 Day Extended Forecast - Weather - Time and Date', 'url': 'https://www.timeanddate.com/weather/@1261848/ext', 'content': 'Apr 11, 106 / 80 °F, Showers early. Mostly cloudy. 108 °F, 8 mph, ↑, 26%, 21 ... * Updated Monday, April 7, 2025 8:54:04 pm Narasaraopet time - Weather by', 'score': 0.8891543}]\", name='tavily_search_results_json', id='b2b9d42d-a74d-4713-bbdc-4b73c206af6d', tool_call_id='call_chOYtsfW1cWIDcUPWi0XE9Tc'), AIMessage(content='The weather in Narasaraopet shows a temperature of 106°F to 80°F with showers early and mostly cloudy conditions. If you need more detailed information, I can look up a specific weather forecast for Narasaraopet.', additional_kwargs={'refusal': None}, response_metadata={'token_usage': {'completion_tokens': 51, 'prompt_tokens': 425, 'total_tokens': 476, 'completion_tokens_details': {'accepted_prediction_tokens': 0, 'audio_tokens': 0, 'reasoning_tokens': 0, 'rejected_prediction_tokens': 0}, 'prompt_tokens_details': {'audio_tokens': 0, 'cached_tokens': 0}}, 'model_name': 'gpt-3.5-turbo-0125', 'system_fingerprint': None, 'id': 'chatcmpl-BLDNAgxXWePd9Fdv5NkkeUXhLuFxo', 'finish_reason': 'stop', 'logprobs': None}, id='run-1432c11a-2a53-492a-afc2-aeb5d94d0deb-0', usage_metadata={'input_tokens': 425, 'output_tokens': 51, 'total_tokens': 476, 'input_token_details': {'audio': 0, 'cache_read': 0}, 'output_token_details': {'audio': 0, 'reasoning': 0}}), HumanMessage(content='How is weather in kondapur hyderabad', additional_kwargs={}, response_metadata={}, id='393db947-b569-4a91-abb2-b5aa48c73b13'), AIMessage(content='', additional_kwargs={'tool_calls': [{'id': 'call_AF8WS6x7cwpSdYSzBKOGKErB', 'function': {'arguments': '{\"query\":\"weather in Kondapur Hyderabad\"}', 'name': 'tavily_search_results_json'}, 'type': 'function'}], 'refusal': None}, response_metadata={'token_usage': {'completion_tokens': 24, 'prompt_tokens': 490, 'total_tokens': 514, 'completion_tokens_details': {'accepted_prediction_tokens': 0, 'audio_tokens': 0, 'reasoning_tokens': 0, 'rejected_prediction_tokens': 0}, 'prompt_tokens_details': {'audio_tokens': 0, 'cached_tokens': 0}}, 'model_name': 'gpt-3.5-turbo-0125', 'system_fingerprint': None, 'id': 'chatcmpl-BLDVasAVIsYErmbmqRQsft40Pu4xX', 'finish_reason': 'tool_calls', 'logprobs': None}, id='run-f617f370-bd9b-410c-8887-a3c32eda0455-0', tool_calls=[{'name': 'tavily_search_results_json', 'args': {'query': 'weather in Kondapur Hyderabad'}, 'id': 'call_AF8WS6x7cwpSdYSzBKOGKErB', 'type': 'tool_call'}], usage_metadata={'input_tokens': 490, 'output_tokens': 24, 'total_tokens': 514, 'input_token_details': {'audio': 0, 'cache_read': 0}, 'output_token_details': {'audio': 0, 'reasoning': 0}}), ToolMessage(content=\"[{'title': 'Kondapur - Weather Forecast Maps - Ventusky', 'url': 'https://www.ventusky.com/kondapur', 'content': 'Sun and Moon ; 2025/04/11, —, 04:56, 17:19, 96 % to 99 % ; 2025/04/12, —, 05:28, 18:06, 99 % to 100 % ; 2025/04/13, —, 06:00, 18:54, 100 % to 99 %.', 'score': 0.9016528}, {'title': 'kondapur - Skymet Weather', 'url': 'https://www.skymetweather.com/forecast/weather/india/telangana/rangareddy/kondapur', 'content': 'Friday, 11 Apr 2025. 37°. slash 25°c. weather icon partly cloudy. icon humidity ... Copyright © 2025 Skymet Weather. All Rights Reserved.', 'score': 0.8958969}]\", name='tavily_search_results_json', id='46b1ad0b-aec9-4b78-8258-41e3a58919eb', tool_call_id='call_AF8WS6x7cwpSdYSzBKOGKErB'), AIMessage(content='The weather in Kondapur, Hyderabad is currently showing a temperature of 37°C with partly cloudy conditions. If you need more detailed information or a specific forecast, feel free to ask!', additional_kwargs={'refusal': None}, response_metadata={'token_usage': {'completion_tokens': 40, 'prompt_tokens': 757, 'total_tokens': 797, 'completion_tokens_details': {'accepted_prediction_tokens': 0, 'audio_tokens': 0, 'reasoning_tokens': 0, 'rejected_prediction_tokens': 0}, 'prompt_tokens_details': {'audio_tokens': 0, 'cached_tokens': 0}}, 'model_name': 'gpt-3.5-turbo-0125', 'system_fingerprint': None, 'id': 'chatcmpl-BLDVroVbdSMuIZKEG8r0FKX50E9Sn', 'finish_reason': 'stop', 'logprobs': None}, id='run-e1d29a28-878c-4b87-ad78-8f967dc28df2-0', usage_metadata={'input_tokens': 757, 'output_tokens': 40, 'total_tokens': 797, 'input_token_details': {'audio': 0, 'cache_read': 0}, 'output_token_details': {'audio': 0, 'reasoning': 0}})]}\n",
      "{'messages': [AIMessage(content='The weather in Kondapur, Hyderabad is currently showing a temperature of 37°C with partly cloudy conditions. If you need more detailed information or a specific forecast, feel free to ask!', additional_kwargs={'refusal': None}, response_metadata={'token_usage': {'completion_tokens': 40, 'prompt_tokens': 757, 'total_tokens': 797, 'completion_tokens_details': {'accepted_prediction_tokens': 0, 'audio_tokens': 0, 'reasoning_tokens': 0, 'rejected_prediction_tokens': 0}, 'prompt_tokens_details': {'audio_tokens': 0, 'cached_tokens': 0}}, 'model_name': 'gpt-3.5-turbo-0125', 'system_fingerprint': None, 'id': 'chatcmpl-BLDVroVbdSMuIZKEG8r0FKX50E9Sn', 'finish_reason': 'stop', 'logprobs': None}, id='run-e1d29a28-878c-4b87-ad78-8f967dc28df2-0', usage_metadata={'input_tokens': 757, 'output_tokens': 40, 'total_tokens': 797, 'input_token_details': {'audio': 0, 'cache_read': 0}, 'output_token_details': {'audio': 0, 'reasoning': 0}})]}\n"
     ]
    }
   ],
   "source": [
    "messages = [HumanMessage(content=\"How is weather in kondapur hyderabad\")]\n",
    "for event in abot.graph.stream({\"messages\":messages},thread):\n",
    "    for v in event.values():\n",
    "        print(v)\n",
    "while abot.graph.get_state(thread).next:\n",
    "    print(f\"----{abot.graph.get_state(thread)}----\")\n",
    "    _input = input(\"proceed\")\n",
    "    if _input != \"y\":\n",
    "        print(\"aborting\")\n",
    "        break\n",
    "    for event in abot.graph.stream(None, thread):\n",
    "        for v in event.values():\n",
    "            print(v)"
   ]
  },
  {
   "cell_type": "markdown",
   "id": "659b94f1",
   "metadata": {},
   "source": [
    "# Modify State"
   ]
  },
  {
   "cell_type": "code",
   "execution_count": 18,
   "id": "82c4e799",
   "metadata": {},
   "outputs": [
    {
     "name": "stdout",
     "output_type": "stream",
     "text": [
      "State : {'messages': [HumanMessage(content='What is weather in guntur', additional_kwargs={}, response_metadata={}, id='e0c81b9f-d5f5-4a59-9629-f36f1405cc1f'), AIMessage(content='', additional_kwargs={'tool_calls': [{'id': 'call_pYA7sYXXFTZBGDQui2PErLLg', 'function': {'arguments': '{\"query\":\"weather in Guntur\"}', 'name': 'tavily_search_results_json'}, 'type': 'function'}], 'refusal': None}, response_metadata={'token_usage': {'completion_tokens': 23, 'prompt_tokens': 153, 'total_tokens': 176, 'completion_tokens_details': {'accepted_prediction_tokens': 0, 'audio_tokens': 0, 'reasoning_tokens': 0, 'rejected_prediction_tokens': 0}, 'prompt_tokens_details': {'audio_tokens': 0, 'cached_tokens': 0}}, 'model_name': 'gpt-3.5-turbo-0125', 'system_fingerprint': None, 'id': 'chatcmpl-BLDciwRdt1zBgyt4Wu5RSDUeUIohx', 'finish_reason': 'tool_calls', 'logprobs': None}, id='run-de33aa74-66f6-4c77-815a-35b0dab15ed6-0', tool_calls=[{'name': 'tavily_search_results_json', 'args': {'query': 'weather in Guntur'}, 'id': 'call_pYA7sYXXFTZBGDQui2PErLLg', 'type': 'tool_call'}], usage_metadata={'input_tokens': 153, 'output_tokens': 23, 'total_tokens': 176, 'input_token_details': {'audio': 0, 'cache_read': 0}, 'output_token_details': {'audio': 0, 'reasoning': 0}})]}\n",
      "{'messages': [AIMessage(content='', additional_kwargs={'tool_calls': [{'id': 'call_pYA7sYXXFTZBGDQui2PErLLg', 'function': {'arguments': '{\"query\":\"weather in Guntur\"}', 'name': 'tavily_search_results_json'}, 'type': 'function'}], 'refusal': None}, response_metadata={'token_usage': {'completion_tokens': 23, 'prompt_tokens': 153, 'total_tokens': 176, 'completion_tokens_details': {'accepted_prediction_tokens': 0, 'audio_tokens': 0, 'reasoning_tokens': 0, 'rejected_prediction_tokens': 0}, 'prompt_tokens_details': {'audio_tokens': 0, 'cached_tokens': 0}}, 'model_name': 'gpt-3.5-turbo-0125', 'system_fingerprint': None, 'id': 'chatcmpl-BLDciwRdt1zBgyt4Wu5RSDUeUIohx', 'finish_reason': 'tool_calls', 'logprobs': None}, id='run-de33aa74-66f6-4c77-815a-35b0dab15ed6-0', tool_calls=[{'name': 'tavily_search_results_json', 'args': {'query': 'weather in Guntur'}, 'id': 'call_pYA7sYXXFTZBGDQui2PErLLg', 'type': 'tool_call'}], usage_metadata={'input_tokens': 153, 'output_tokens': 23, 'total_tokens': 176, 'input_token_details': {'audio': 0, 'cache_read': 0}, 'output_token_details': {'audio': 0, 'reasoning': 0}})]}\n",
      "()\n"
     ]
    }
   ],
   "source": [
    "messages = [HumanMessage(content=\"What is weather in guntur\")]\n",
    "thread = {\"configurable\":{\"thread_id\":\"3\"}}\n",
    "for event in abot.graph.stream({\"messages\":messages},thread):\n",
    "    for v in event.values():\n",
    "        print(v)"
   ]
  },
  {
   "cell_type": "code",
   "execution_count": 19,
   "id": "7d2c8dbe",
   "metadata": {},
   "outputs": [
    {
     "data": {
      "text/plain": [
       "StateSnapshot(values={'messages': [HumanMessage(content='What is weather in guntur', additional_kwargs={}, response_metadata={}, id='e0c81b9f-d5f5-4a59-9629-f36f1405cc1f'), AIMessage(content='', additional_kwargs={'tool_calls': [{'id': 'call_pYA7sYXXFTZBGDQui2PErLLg', 'function': {'arguments': '{\"query\":\"weather in Guntur\"}', 'name': 'tavily_search_results_json'}, 'type': 'function'}], 'refusal': None}, response_metadata={'token_usage': {'completion_tokens': 23, 'prompt_tokens': 153, 'total_tokens': 176, 'completion_tokens_details': {'accepted_prediction_tokens': 0, 'audio_tokens': 0, 'reasoning_tokens': 0, 'rejected_prediction_tokens': 0}, 'prompt_tokens_details': {'audio_tokens': 0, 'cached_tokens': 0}}, 'model_name': 'gpt-3.5-turbo-0125', 'system_fingerprint': None, 'id': 'chatcmpl-BLDciwRdt1zBgyt4Wu5RSDUeUIohx', 'finish_reason': 'tool_calls', 'logprobs': None}, id='run-de33aa74-66f6-4c77-815a-35b0dab15ed6-0', tool_calls=[{'name': 'tavily_search_results_json', 'args': {'query': 'weather in Guntur'}, 'id': 'call_pYA7sYXXFTZBGDQui2PErLLg', 'type': 'tool_call'}], usage_metadata={'input_tokens': 153, 'output_tokens': 23, 'total_tokens': 176, 'input_token_details': {'audio': 0, 'cache_read': 0}, 'output_token_details': {'audio': 0, 'reasoning': 0}})]}, next=('action',), config={'configurable': {'thread_id': '3', 'checkpoint_ns': '', 'checkpoint_id': '1f01704b-d301-611c-8001-c29d38fd31c0'}}, metadata={'source': 'loop', 'writes': {'llm': {'messages': [AIMessage(content='', additional_kwargs={'tool_calls': [{'id': 'call_pYA7sYXXFTZBGDQui2PErLLg', 'function': {'arguments': '{\"query\":\"weather in Guntur\"}', 'name': 'tavily_search_results_json'}, 'type': 'function'}], 'refusal': None}, response_metadata={'token_usage': {'completion_tokens': 23, 'prompt_tokens': 153, 'total_tokens': 176, 'completion_tokens_details': {'accepted_prediction_tokens': 0, 'audio_tokens': 0, 'reasoning_tokens': 0, 'rejected_prediction_tokens': 0}, 'prompt_tokens_details': {'audio_tokens': 0, 'cached_tokens': 0}}, 'model_name': 'gpt-3.5-turbo-0125', 'system_fingerprint': None, 'id': 'chatcmpl-BLDciwRdt1zBgyt4Wu5RSDUeUIohx', 'finish_reason': 'tool_calls', 'logprobs': None}, id='run-de33aa74-66f6-4c77-815a-35b0dab15ed6-0', tool_calls=[{'name': 'tavily_search_results_json', 'args': {'query': 'weather in Guntur'}, 'id': 'call_pYA7sYXXFTZBGDQui2PErLLg', 'type': 'tool_call'}], usage_metadata={'input_tokens': 153, 'output_tokens': 23, 'total_tokens': 176, 'input_token_details': {'audio': 0, 'cache_read': 0}, 'output_token_details': {'audio': 0, 'reasoning': 0}})]}}, 'step': 1, 'parents': {}, 'thread_id': '3'}, created_at='2025-04-11T18:42:36.983714+00:00', parent_config={'configurable': {'thread_id': '3', 'checkpoint_ns': '', 'checkpoint_id': '1f01704b-c6ed-61b4-8000-aafe7d2331aa'}}, tasks=(PregelTask(id='ba8bf1a9-8097-f3dc-3383-a4f495749634', name='action', path=('__pregel_pull', 'action'), error=None, interrupts=(), state=None, result=None),))"
      ]
     },
     "execution_count": 19,
     "metadata": {},
     "output_type": "execute_result"
    }
   ],
   "source": [
    "abot.graph.get_state(thread)"
   ]
  },
  {
   "cell_type": "code",
   "execution_count": 20,
   "id": "a991200e",
   "metadata": {},
   "outputs": [],
   "source": [
    "current_values = abot.graph.get_state(thread)"
   ]
  },
  {
   "cell_type": "code",
   "execution_count": 23,
   "id": "72905ec8",
   "metadata": {},
   "outputs": [
    {
     "data": {
      "text/plain": [
       "AIMessage(content='', additional_kwargs={'tool_calls': [{'id': 'call_pYA7sYXXFTZBGDQui2PErLLg', 'function': {'arguments': '{\"query\":\"weather in Guntur\"}', 'name': 'tavily_search_results_json'}, 'type': 'function'}], 'refusal': None}, response_metadata={'token_usage': {'completion_tokens': 23, 'prompt_tokens': 153, 'total_tokens': 176, 'completion_tokens_details': {'accepted_prediction_tokens': 0, 'audio_tokens': 0, 'reasoning_tokens': 0, 'rejected_prediction_tokens': 0}, 'prompt_tokens_details': {'audio_tokens': 0, 'cached_tokens': 0}}, 'model_name': 'gpt-3.5-turbo-0125', 'system_fingerprint': None, 'id': 'chatcmpl-BLDciwRdt1zBgyt4Wu5RSDUeUIohx', 'finish_reason': 'tool_calls', 'logprobs': None}, id='run-de33aa74-66f6-4c77-815a-35b0dab15ed6-0', tool_calls=[{'name': 'tavily_search_results_json', 'args': {'query': 'weather in Guntur'}, 'id': 'call_pYA7sYXXFTZBGDQui2PErLLg', 'type': 'tool_call'}], usage_metadata={'input_tokens': 153, 'output_tokens': 23, 'total_tokens': 176, 'input_token_details': {'audio': 0, 'cache_read': 0}, 'output_token_details': {'audio': 0, 'reasoning': 0}})"
      ]
     },
     "execution_count": 23,
     "metadata": {},
     "output_type": "execute_result"
    }
   ],
   "source": [
    "current_values.values[\"messages\"][-1]"
   ]
  },
  {
   "cell_type": "code",
   "execution_count": 24,
   "id": "d5d79fb2",
   "metadata": {},
   "outputs": [
    {
     "data": {
      "text/plain": [
       "[{'name': 'tavily_search_results_json',\n",
       "  'args': {'query': 'weather in Guntur'},\n",
       "  'id': 'call_pYA7sYXXFTZBGDQui2PErLLg',\n",
       "  'type': 'tool_call'}]"
      ]
     },
     "execution_count": 24,
     "metadata": {},
     "output_type": "execute_result"
    }
   ],
   "source": [
    "current_values.values[\"messages\"][-1].tool_calls"
   ]
  },
  {
   "cell_type": "code",
   "execution_count": 26,
   "id": "5661db23",
   "metadata": {},
   "outputs": [],
   "source": [
    "_id = current_values.values[\"messages\"][-1].tool_calls[0][\"id\"]"
   ]
  },
  {
   "cell_type": "code",
   "execution_count": 27,
   "id": "05cb2768",
   "metadata": {},
   "outputs": [],
   "source": [
    "current_values.values[\"messages\"][-1].tool_calls[0] = {'name': 'tavily_search_results_json','args': {'query': 'weather in Vijayawada'},'id': _id}"
   ]
  },
  {
   "cell_type": "code",
   "execution_count": 28,
   "id": "e8de15a0",
   "metadata": {},
   "outputs": [
    {
     "name": "stdout",
     "output_type": "stream",
     "text": [
      "State : {'messages': [HumanMessage(content='What is weather in guntur', additional_kwargs={}, response_metadata={}, id='e0c81b9f-d5f5-4a59-9629-f36f1405cc1f'), AIMessage(content='', additional_kwargs={'tool_calls': [{'id': 'call_pYA7sYXXFTZBGDQui2PErLLg', 'function': {'arguments': '{\"query\":\"weather in Guntur\"}', 'name': 'tavily_search_results_json'}, 'type': 'function'}], 'refusal': None}, response_metadata={'token_usage': {'completion_tokens': 23, 'prompt_tokens': 153, 'total_tokens': 176, 'completion_tokens_details': {'accepted_prediction_tokens': 0, 'audio_tokens': 0, 'reasoning_tokens': 0, 'rejected_prediction_tokens': 0}, 'prompt_tokens_details': {'audio_tokens': 0, 'cached_tokens': 0}}, 'model_name': 'gpt-3.5-turbo-0125', 'system_fingerprint': None, 'id': 'chatcmpl-BLDciwRdt1zBgyt4Wu5RSDUeUIohx', 'finish_reason': 'tool_calls', 'logprobs': None}, id='run-de33aa74-66f6-4c77-815a-35b0dab15ed6-0', tool_calls=[{'name': 'tavily_search_results_json', 'args': {'query': 'weather in Vijayawada'}, 'id': 'call_pYA7sYXXFTZBGDQui2PErLLg'}], usage_metadata={'input_tokens': 153, 'output_tokens': 23, 'total_tokens': 176, 'input_token_details': {'audio': 0, 'cache_read': 0}, 'output_token_details': {'audio': 0, 'reasoning': 0}})]}\n"
     ]
    },
    {
     "data": {
      "text/plain": [
       "{'configurable': {'thread_id': '3',\n",
       "  'checkpoint_ns': '',\n",
       "  'checkpoint_id': '1f017056-9840-695a-8002-3cc9a23b5754'}}"
      ]
     },
     "execution_count": 28,
     "metadata": {},
     "output_type": "execute_result"
    }
   ],
   "source": [
    "abot.graph.update_state(thread, current_values.values)"
   ]
  },
  {
   "cell_type": "code",
   "execution_count": 29,
   "id": "9d04b993",
   "metadata": {},
   "outputs": [
    {
     "data": {
      "text/plain": [
       "StateSnapshot(values={'messages': [HumanMessage(content='What is weather in guntur', additional_kwargs={}, response_metadata={}, id='e0c81b9f-d5f5-4a59-9629-f36f1405cc1f'), AIMessage(content='', additional_kwargs={'tool_calls': [{'id': 'call_pYA7sYXXFTZBGDQui2PErLLg', 'function': {'arguments': '{\"query\":\"weather in Guntur\"}', 'name': 'tavily_search_results_json'}, 'type': 'function'}], 'refusal': None}, response_metadata={'token_usage': {'completion_tokens': 23, 'prompt_tokens': 153, 'total_tokens': 176, 'completion_tokens_details': {'accepted_prediction_tokens': 0, 'audio_tokens': 0, 'reasoning_tokens': 0, 'rejected_prediction_tokens': 0}, 'prompt_tokens_details': {'audio_tokens': 0, 'cached_tokens': 0}}, 'model_name': 'gpt-3.5-turbo-0125', 'system_fingerprint': None, 'id': 'chatcmpl-BLDciwRdt1zBgyt4Wu5RSDUeUIohx', 'finish_reason': 'tool_calls', 'logprobs': None}, id='run-de33aa74-66f6-4c77-815a-35b0dab15ed6-0', tool_calls=[{'name': 'tavily_search_results_json', 'args': {'query': 'weather in Vijayawada'}, 'id': 'call_pYA7sYXXFTZBGDQui2PErLLg', 'type': 'tool_call'}], usage_metadata={'input_tokens': 153, 'output_tokens': 23, 'total_tokens': 176, 'input_token_details': {'audio': 0, 'cache_read': 0}, 'output_token_details': {'audio': 0, 'reasoning': 0}})]}, next=('action',), config={'configurable': {'thread_id': '3', 'checkpoint_ns': '', 'checkpoint_id': '1f017056-9840-695a-8002-3cc9a23b5754'}}, metadata={'source': 'update', 'writes': {'llm': {'messages': [HumanMessage(content='What is weather in guntur', additional_kwargs={}, response_metadata={}, id='e0c81b9f-d5f5-4a59-9629-f36f1405cc1f'), AIMessage(content='', additional_kwargs={'tool_calls': [{'id': 'call_pYA7sYXXFTZBGDQui2PErLLg', 'function': {'arguments': '{\"query\":\"weather in Guntur\"}', 'name': 'tavily_search_results_json'}, 'type': 'function'}], 'refusal': None}, response_metadata={'token_usage': {'completion_tokens': 23, 'prompt_tokens': 153, 'total_tokens': 176, 'completion_tokens_details': {'accepted_prediction_tokens': 0, 'audio_tokens': 0, 'reasoning_tokens': 0, 'rejected_prediction_tokens': 0}, 'prompt_tokens_details': {'audio_tokens': 0, 'cached_tokens': 0}}, 'model_name': 'gpt-3.5-turbo-0125', 'system_fingerprint': None, 'id': 'chatcmpl-BLDciwRdt1zBgyt4Wu5RSDUeUIohx', 'finish_reason': 'tool_calls', 'logprobs': None}, id='run-de33aa74-66f6-4c77-815a-35b0dab15ed6-0', tool_calls=[{'name': 'tavily_search_results_json', 'args': {'query': 'weather in Vijayawada'}, 'id': 'call_pYA7sYXXFTZBGDQui2PErLLg', 'type': 'tool_call'}], usage_metadata={'input_tokens': 153, 'output_tokens': 23, 'total_tokens': 176, 'input_token_details': {'audio': 0, 'cache_read': 0}, 'output_token_details': {'audio': 0, 'reasoning': 0}})]}}, 'step': 2, 'parents': {}, 'thread_id': '3'}, created_at='2025-04-11T18:47:26.102141+00:00', parent_config={'configurable': {'thread_id': '3', 'checkpoint_ns': '', 'checkpoint_id': '1f01704b-d301-611c-8001-c29d38fd31c0'}}, tasks=(PregelTask(id='07ca877f-99a4-a963-6179-bf2ee939eefc', name='action', path=('__pregel_pull', 'action'), error=None, interrupts=(), state=None, result=None),))"
      ]
     },
     "execution_count": 29,
     "metadata": {},
     "output_type": "execute_result"
    }
   ],
   "source": [
    "abot.graph.get_state(thread)"
   ]
  },
  {
   "cell_type": "code",
   "execution_count": 30,
   "id": "97c4f982",
   "metadata": {},
   "outputs": [
    {
     "name": "stdout",
     "output_type": "stream",
     "text": [
      "Calling {'name': 'tavily_search_results_json', 'args': {'query': 'weather in Vijayawada'}, 'id': 'call_pYA7sYXXFTZBGDQui2PErLLg', 'type': 'tool_call'}\n",
      "Back to model\n",
      "{'messages': [ToolMessage(content='[{\\'title\\': \\'Weather in Vijayawada\\', \\'url\\': \\'https://www.weatherapi.com/\\', \\'content\\': \"{\\'location\\': {\\'name\\': \\'Vijayawada\\', \\'region\\': \\'Andhra Pradesh\\', \\'country\\': \\'India\\', \\'lat\\': 16.5167, \\'lon\\': 80.6167, \\'tz_id\\': \\'Asia/Kolkata\\', \\'localtime_epoch\\': 1744397390, \\'localtime\\': \\'2025-04-12 00:19\\'}, \\'current\\': {\\'last_updated_epoch\\': 1744397100, \\'last_updated\\': \\'2025-04-12 00:15\\', \\'temp_c\\': 29.1, \\'temp_f\\': 84.4, \\'is_day\\': 0, \\'condition\\': {\\'text\\': \\'Thundery outbreaks in nearby\\', \\'icon\\': \\'//cdn.weatherapi.com/weather/64x64/night/200.png\\', \\'code\\': 1087}, \\'wind_mph\\': 8.1, \\'wind_kph\\': 13.0, \\'wind_degree\\': 139, \\'wind_dir\\': \\'SE\\', \\'pressure_mb\\': 1005.0, \\'pressure_in\\': 29.68, \\'precip_mm\\': 0.0, \\'precip_in\\': 0.0, \\'humidity\\': 73, \\'cloud\\': 40, \\'feelslike_c\\': 33.6, \\'feelslike_f\\': 92.4, \\'windchill_c\\': 29.1, \\'windchill_f\\': 84.4, \\'heatindex_c\\': 33.6, \\'heatindex_f\\': 92.4, \\'dewpoint_c\\': 23.8, \\'dewpoint_f\\': 74.8, \\'vis_km\\': 9.0, \\'vis_miles\\': 5.0, \\'uv\\': 0.0, \\'gust_mph\\': 11.2, \\'gust_kph\\': 18.0}}\", \\'score\\': 0.958598}, {\\'title\\': \\'Weather in Vijayawada in April 2025 (State of Andhra Pradesh)\\', \\'url\\': \\'https://world-weather.info/forecast/india/vijayawada/april-2025/\\', \\'content\\': \\'Weather in Vijayawada in April 2025. Vijayawada Weather Forecast for April ... Friday, 11 April. +79°. Day. +97°. Clear sky. Saturday, 12 April. +81°. Day. +95\\', \\'score\\': 0.9554898}]', name='tavily_search_results_json', id='4d2579e8-5973-4f1f-9a48-06c32f6d60ce', tool_call_id='call_pYA7sYXXFTZBGDQui2PErLLg')]}\n",
      "State : {'messages': [HumanMessage(content='What is weather in guntur', additional_kwargs={}, response_metadata={}, id='e0c81b9f-d5f5-4a59-9629-f36f1405cc1f'), AIMessage(content='', additional_kwargs={'tool_calls': [{'id': 'call_pYA7sYXXFTZBGDQui2PErLLg', 'function': {'arguments': '{\"query\":\"weather in Guntur\"}', 'name': 'tavily_search_results_json'}, 'type': 'function'}], 'refusal': None}, response_metadata={'token_usage': {'completion_tokens': 23, 'prompt_tokens': 153, 'total_tokens': 176, 'completion_tokens_details': {'accepted_prediction_tokens': 0, 'audio_tokens': 0, 'reasoning_tokens': 0, 'rejected_prediction_tokens': 0}, 'prompt_tokens_details': {'audio_tokens': 0, 'cached_tokens': 0}}, 'model_name': 'gpt-3.5-turbo-0125', 'system_fingerprint': None, 'id': 'chatcmpl-BLDciwRdt1zBgyt4Wu5RSDUeUIohx', 'finish_reason': 'tool_calls', 'logprobs': None}, id='run-de33aa74-66f6-4c77-815a-35b0dab15ed6-0', tool_calls=[{'name': 'tavily_search_results_json', 'args': {'query': 'weather in Vijayawada'}, 'id': 'call_pYA7sYXXFTZBGDQui2PErLLg', 'type': 'tool_call'}], usage_metadata={'input_tokens': 153, 'output_tokens': 23, 'total_tokens': 176, 'input_token_details': {'audio': 0, 'cache_read': 0}, 'output_token_details': {'audio': 0, 'reasoning': 0}}), ToolMessage(content='[{\\'title\\': \\'Weather in Vijayawada\\', \\'url\\': \\'https://www.weatherapi.com/\\', \\'content\\': \"{\\'location\\': {\\'name\\': \\'Vijayawada\\', \\'region\\': \\'Andhra Pradesh\\', \\'country\\': \\'India\\', \\'lat\\': 16.5167, \\'lon\\': 80.6167, \\'tz_id\\': \\'Asia/Kolkata\\', \\'localtime_epoch\\': 1744397390, \\'localtime\\': \\'2025-04-12 00:19\\'}, \\'current\\': {\\'last_updated_epoch\\': 1744397100, \\'last_updated\\': \\'2025-04-12 00:15\\', \\'temp_c\\': 29.1, \\'temp_f\\': 84.4, \\'is_day\\': 0, \\'condition\\': {\\'text\\': \\'Thundery outbreaks in nearby\\', \\'icon\\': \\'//cdn.weatherapi.com/weather/64x64/night/200.png\\', \\'code\\': 1087}, \\'wind_mph\\': 8.1, \\'wind_kph\\': 13.0, \\'wind_degree\\': 139, \\'wind_dir\\': \\'SE\\', \\'pressure_mb\\': 1005.0, \\'pressure_in\\': 29.68, \\'precip_mm\\': 0.0, \\'precip_in\\': 0.0, \\'humidity\\': 73, \\'cloud\\': 40, \\'feelslike_c\\': 33.6, \\'feelslike_f\\': 92.4, \\'windchill_c\\': 29.1, \\'windchill_f\\': 84.4, \\'heatindex_c\\': 33.6, \\'heatindex_f\\': 92.4, \\'dewpoint_c\\': 23.8, \\'dewpoint_f\\': 74.8, \\'vis_km\\': 9.0, \\'vis_miles\\': 5.0, \\'uv\\': 0.0, \\'gust_mph\\': 11.2, \\'gust_kph\\': 18.0}}\", \\'score\\': 0.958598}, {\\'title\\': \\'Weather in Vijayawada in April 2025 (State of Andhra Pradesh)\\', \\'url\\': \\'https://world-weather.info/forecast/india/vijayawada/april-2025/\\', \\'content\\': \\'Weather in Vijayawada in April 2025. Vijayawada Weather Forecast for April ... Friday, 11 April. +79°. Day. +97°. Clear sky. Saturday, 12 April. +81°. Day. +95\\', \\'score\\': 0.9554898}]', name='tavily_search_results_json', id='4d2579e8-5973-4f1f-9a48-06c32f6d60ce', tool_call_id='call_pYA7sYXXFTZBGDQui2PErLLg'), AIMessage(content='The current weather in Vijayawada, Andhra Pradesh, India is 29.1°C with thundery outbreaks in nearby areas. The wind speed is 13.0 km/h coming from the southeast. The humidity is at 73%. You can find more information on [Weather in Vijayawada](https://www.weatherapi.com/).', additional_kwargs={'refusal': None}, response_metadata={'token_usage': {'completion_tokens': 75, 'prompt_tokens': 738, 'total_tokens': 813, 'completion_tokens_details': {'accepted_prediction_tokens': 0, 'audio_tokens': 0, 'reasoning_tokens': 0, 'rejected_prediction_tokens': 0}, 'prompt_tokens_details': {'audio_tokens': 0, 'cached_tokens': 0}}, 'model_name': 'gpt-3.5-turbo-0125', 'system_fingerprint': None, 'id': 'chatcmpl-BLDjm8HmjG6MVVvkJh87yy6Mxi0S7', 'finish_reason': 'stop', 'logprobs': None}, id='run-512048eb-2ff1-4145-b82b-2af961a9b4a3-0', usage_metadata={'input_tokens': 738, 'output_tokens': 75, 'total_tokens': 813, 'input_token_details': {'audio': 0, 'cache_read': 0}, 'output_token_details': {'audio': 0, 'reasoning': 0}})]}\n",
      "{'messages': [AIMessage(content='The current weather in Vijayawada, Andhra Pradesh, India is 29.1°C with thundery outbreaks in nearby areas. The wind speed is 13.0 km/h coming from the southeast. The humidity is at 73%. You can find more information on [Weather in Vijayawada](https://www.weatherapi.com/).', additional_kwargs={'refusal': None}, response_metadata={'token_usage': {'completion_tokens': 75, 'prompt_tokens': 738, 'total_tokens': 813, 'completion_tokens_details': {'accepted_prediction_tokens': 0, 'audio_tokens': 0, 'reasoning_tokens': 0, 'rejected_prediction_tokens': 0}, 'prompt_tokens_details': {'audio_tokens': 0, 'cached_tokens': 0}}, 'model_name': 'gpt-3.5-turbo-0125', 'system_fingerprint': None, 'id': 'chatcmpl-BLDjm8HmjG6MVVvkJh87yy6Mxi0S7', 'finish_reason': 'stop', 'logprobs': None}, id='run-512048eb-2ff1-4145-b82b-2af961a9b4a3-0', usage_metadata={'input_tokens': 738, 'output_tokens': 75, 'total_tokens': 813, 'input_token_details': {'audio': 0, 'cache_read': 0}, 'output_token_details': {'audio': 0, 'reasoning': 0}})]}\n"
     ]
    }
   ],
   "source": [
    "for event in abot.graph.stream(None, thread):\n",
    "    for v in event.values():\n",
    "        print(v)"
   ]
  },
  {
   "cell_type": "markdown",
   "id": "e321d516",
   "metadata": {},
   "source": [
    "# Time travel"
   ]
  },
  {
   "cell_type": "code",
   "execution_count": 31,
   "id": "ccac417d",
   "metadata": {},
   "outputs": [
    {
     "name": "stdout",
     "output_type": "stream",
     "text": [
      "StateSnapshot(values={'messages': [HumanMessage(content='What is weather in guntur', additional_kwargs={}, response_metadata={}, id='e0c81b9f-d5f5-4a59-9629-f36f1405cc1f'), AIMessage(content='', additional_kwargs={'tool_calls': [{'id': 'call_pYA7sYXXFTZBGDQui2PErLLg', 'function': {'arguments': '{\"query\":\"weather in Guntur\"}', 'name': 'tavily_search_results_json'}, 'type': 'function'}], 'refusal': None}, response_metadata={'token_usage': {'completion_tokens': 23, 'prompt_tokens': 153, 'total_tokens': 176, 'completion_tokens_details': {'accepted_prediction_tokens': 0, 'audio_tokens': 0, 'reasoning_tokens': 0, 'rejected_prediction_tokens': 0}, 'prompt_tokens_details': {'audio_tokens': 0, 'cached_tokens': 0}}, 'model_name': 'gpt-3.5-turbo-0125', 'system_fingerprint': None, 'id': 'chatcmpl-BLDciwRdt1zBgyt4Wu5RSDUeUIohx', 'finish_reason': 'tool_calls', 'logprobs': None}, id='run-de33aa74-66f6-4c77-815a-35b0dab15ed6-0', tool_calls=[{'name': 'tavily_search_results_json', 'args': {'query': 'weather in Vijayawada'}, 'id': 'call_pYA7sYXXFTZBGDQui2PErLLg', 'type': 'tool_call'}], usage_metadata={'input_tokens': 153, 'output_tokens': 23, 'total_tokens': 176, 'input_token_details': {'audio': 0, 'cache_read': 0}, 'output_token_details': {'audio': 0, 'reasoning': 0}}), ToolMessage(content='[{\\'title\\': \\'Weather in Vijayawada\\', \\'url\\': \\'https://www.weatherapi.com/\\', \\'content\\': \"{\\'location\\': {\\'name\\': \\'Vijayawada\\', \\'region\\': \\'Andhra Pradesh\\', \\'country\\': \\'India\\', \\'lat\\': 16.5167, \\'lon\\': 80.6167, \\'tz_id\\': \\'Asia/Kolkata\\', \\'localtime_epoch\\': 1744397390, \\'localtime\\': \\'2025-04-12 00:19\\'}, \\'current\\': {\\'last_updated_epoch\\': 1744397100, \\'last_updated\\': \\'2025-04-12 00:15\\', \\'temp_c\\': 29.1, \\'temp_f\\': 84.4, \\'is_day\\': 0, \\'condition\\': {\\'text\\': \\'Thundery outbreaks in nearby\\', \\'icon\\': \\'//cdn.weatherapi.com/weather/64x64/night/200.png\\', \\'code\\': 1087}, \\'wind_mph\\': 8.1, \\'wind_kph\\': 13.0, \\'wind_degree\\': 139, \\'wind_dir\\': \\'SE\\', \\'pressure_mb\\': 1005.0, \\'pressure_in\\': 29.68, \\'precip_mm\\': 0.0, \\'precip_in\\': 0.0, \\'humidity\\': 73, \\'cloud\\': 40, \\'feelslike_c\\': 33.6, \\'feelslike_f\\': 92.4, \\'windchill_c\\': 29.1, \\'windchill_f\\': 84.4, \\'heatindex_c\\': 33.6, \\'heatindex_f\\': 92.4, \\'dewpoint_c\\': 23.8, \\'dewpoint_f\\': 74.8, \\'vis_km\\': 9.0, \\'vis_miles\\': 5.0, \\'uv\\': 0.0, \\'gust_mph\\': 11.2, \\'gust_kph\\': 18.0}}\", \\'score\\': 0.958598}, {\\'title\\': \\'Weather in Vijayawada in April 2025 (State of Andhra Pradesh)\\', \\'url\\': \\'https://world-weather.info/forecast/india/vijayawada/april-2025/\\', \\'content\\': \\'Weather in Vijayawada in April 2025. Vijayawada Weather Forecast for April ... Friday, 11 April. +79°. Day. +97°. Clear sky. Saturday, 12 April. +81°. Day. +95\\', \\'score\\': 0.9554898}]', name='tavily_search_results_json', id='4d2579e8-5973-4f1f-9a48-06c32f6d60ce', tool_call_id='call_pYA7sYXXFTZBGDQui2PErLLg'), AIMessage(content='The current weather in Vijayawada, Andhra Pradesh, India is 29.1°C with thundery outbreaks in nearby areas. The wind speed is 13.0 km/h coming from the southeast. The humidity is at 73%. You can find more information on [Weather in Vijayawada](https://www.weatherapi.com/).', additional_kwargs={'refusal': None}, response_metadata={'token_usage': {'completion_tokens': 75, 'prompt_tokens': 738, 'total_tokens': 813, 'completion_tokens_details': {'accepted_prediction_tokens': 0, 'audio_tokens': 0, 'reasoning_tokens': 0, 'rejected_prediction_tokens': 0}, 'prompt_tokens_details': {'audio_tokens': 0, 'cached_tokens': 0}}, 'model_name': 'gpt-3.5-turbo-0125', 'system_fingerprint': None, 'id': 'chatcmpl-BLDjm8HmjG6MVVvkJh87yy6Mxi0S7', 'finish_reason': 'stop', 'logprobs': None}, id='run-512048eb-2ff1-4145-b82b-2af961a9b4a3-0', usage_metadata={'input_tokens': 738, 'output_tokens': 75, 'total_tokens': 813, 'input_token_details': {'audio': 0, 'cache_read': 0}, 'output_token_details': {'audio': 0, 'reasoning': 0}})]}, next=(), config={'configurable': {'thread_id': '3', 'checkpoint_ns': '', 'checkpoint_id': '1f01705c-2c02-6c88-8004-bcfc812a9347'}}, metadata={'source': 'loop', 'writes': {'llm': {'messages': [AIMessage(content='The current weather in Vijayawada, Andhra Pradesh, India is 29.1°C with thundery outbreaks in nearby areas. The wind speed is 13.0 km/h coming from the southeast. The humidity is at 73%. You can find more information on [Weather in Vijayawada](https://www.weatherapi.com/).', additional_kwargs={'refusal': None}, response_metadata={'token_usage': {'completion_tokens': 75, 'prompt_tokens': 738, 'total_tokens': 813, 'completion_tokens_details': {'accepted_prediction_tokens': 0, 'audio_tokens': 0, 'reasoning_tokens': 0, 'rejected_prediction_tokens': 0}, 'prompt_tokens_details': {'audio_tokens': 0, 'cached_tokens': 0}}, 'model_name': 'gpt-3.5-turbo-0125', 'system_fingerprint': None, 'id': 'chatcmpl-BLDjm8HmjG6MVVvkJh87yy6Mxi0S7', 'finish_reason': 'stop', 'logprobs': None}, id='run-512048eb-2ff1-4145-b82b-2af961a9b4a3-0', usage_metadata={'input_tokens': 738, 'output_tokens': 75, 'total_tokens': 813, 'input_token_details': {'audio': 0, 'cache_read': 0}, 'output_token_details': {'audio': 0, 'reasoning': 0}})]}}, 'step': 4, 'parents': {}, 'thread_id': '3'}, created_at='2025-04-11T18:49:55.813459+00:00', parent_config={'configurable': {'thread_id': '3', 'checkpoint_ns': '', 'checkpoint_id': '1f01705c-1b09-64cc-8003-2aa9be0b6a4a'}}, tasks=())\n",
      "--------\n",
      "StateSnapshot(values={'messages': [HumanMessage(content='What is weather in guntur', additional_kwargs={}, response_metadata={}, id='e0c81b9f-d5f5-4a59-9629-f36f1405cc1f'), AIMessage(content='', additional_kwargs={'tool_calls': [{'id': 'call_pYA7sYXXFTZBGDQui2PErLLg', 'function': {'arguments': '{\"query\":\"weather in Guntur\"}', 'name': 'tavily_search_results_json'}, 'type': 'function'}], 'refusal': None}, response_metadata={'token_usage': {'completion_tokens': 23, 'prompt_tokens': 153, 'total_tokens': 176, 'completion_tokens_details': {'accepted_prediction_tokens': 0, 'audio_tokens': 0, 'reasoning_tokens': 0, 'rejected_prediction_tokens': 0}, 'prompt_tokens_details': {'audio_tokens': 0, 'cached_tokens': 0}}, 'model_name': 'gpt-3.5-turbo-0125', 'system_fingerprint': None, 'id': 'chatcmpl-BLDciwRdt1zBgyt4Wu5RSDUeUIohx', 'finish_reason': 'tool_calls', 'logprobs': None}, id='run-de33aa74-66f6-4c77-815a-35b0dab15ed6-0', tool_calls=[{'name': 'tavily_search_results_json', 'args': {'query': 'weather in Vijayawada'}, 'id': 'call_pYA7sYXXFTZBGDQui2PErLLg', 'type': 'tool_call'}], usage_metadata={'input_tokens': 153, 'output_tokens': 23, 'total_tokens': 176, 'input_token_details': {'audio': 0, 'cache_read': 0}, 'output_token_details': {'audio': 0, 'reasoning': 0}}), ToolMessage(content='[{\\'title\\': \\'Weather in Vijayawada\\', \\'url\\': \\'https://www.weatherapi.com/\\', \\'content\\': \"{\\'location\\': {\\'name\\': \\'Vijayawada\\', \\'region\\': \\'Andhra Pradesh\\', \\'country\\': \\'India\\', \\'lat\\': 16.5167, \\'lon\\': 80.6167, \\'tz_id\\': \\'Asia/Kolkata\\', \\'localtime_epoch\\': 1744397390, \\'localtime\\': \\'2025-04-12 00:19\\'}, \\'current\\': {\\'last_updated_epoch\\': 1744397100, \\'last_updated\\': \\'2025-04-12 00:15\\', \\'temp_c\\': 29.1, \\'temp_f\\': 84.4, \\'is_day\\': 0, \\'condition\\': {\\'text\\': \\'Thundery outbreaks in nearby\\', \\'icon\\': \\'//cdn.weatherapi.com/weather/64x64/night/200.png\\', \\'code\\': 1087}, \\'wind_mph\\': 8.1, \\'wind_kph\\': 13.0, \\'wind_degree\\': 139, \\'wind_dir\\': \\'SE\\', \\'pressure_mb\\': 1005.0, \\'pressure_in\\': 29.68, \\'precip_mm\\': 0.0, \\'precip_in\\': 0.0, \\'humidity\\': 73, \\'cloud\\': 40, \\'feelslike_c\\': 33.6, \\'feelslike_f\\': 92.4, \\'windchill_c\\': 29.1, \\'windchill_f\\': 84.4, \\'heatindex_c\\': 33.6, \\'heatindex_f\\': 92.4, \\'dewpoint_c\\': 23.8, \\'dewpoint_f\\': 74.8, \\'vis_km\\': 9.0, \\'vis_miles\\': 5.0, \\'uv\\': 0.0, \\'gust_mph\\': 11.2, \\'gust_kph\\': 18.0}}\", \\'score\\': 0.958598}, {\\'title\\': \\'Weather in Vijayawada in April 2025 (State of Andhra Pradesh)\\', \\'url\\': \\'https://world-weather.info/forecast/india/vijayawada/april-2025/\\', \\'content\\': \\'Weather in Vijayawada in April 2025. Vijayawada Weather Forecast for April ... Friday, 11 April. +79°. Day. +97°. Clear sky. Saturday, 12 April. +81°. Day. +95\\', \\'score\\': 0.9554898}]', name='tavily_search_results_json', id='4d2579e8-5973-4f1f-9a48-06c32f6d60ce', tool_call_id='call_pYA7sYXXFTZBGDQui2PErLLg')]}, next=('llm',), config={'configurable': {'thread_id': '3', 'checkpoint_ns': '', 'checkpoint_id': '1f01705c-1b09-64cc-8003-2aa9be0b6a4a'}}, metadata={'source': 'loop', 'writes': {'action': {'messages': [ToolMessage(content='[{\\'title\\': \\'Weather in Vijayawada\\', \\'url\\': \\'https://www.weatherapi.com/\\', \\'content\\': \"{\\'location\\': {\\'name\\': \\'Vijayawada\\', \\'region\\': \\'Andhra Pradesh\\', \\'country\\': \\'India\\', \\'lat\\': 16.5167, \\'lon\\': 80.6167, \\'tz_id\\': \\'Asia/Kolkata\\', \\'localtime_epoch\\': 1744397390, \\'localtime\\': \\'2025-04-12 00:19\\'}, \\'current\\': {\\'last_updated_epoch\\': 1744397100, \\'last_updated\\': \\'2025-04-12 00:15\\', \\'temp_c\\': 29.1, \\'temp_f\\': 84.4, \\'is_day\\': 0, \\'condition\\': {\\'text\\': \\'Thundery outbreaks in nearby\\', \\'icon\\': \\'//cdn.weatherapi.com/weather/64x64/night/200.png\\', \\'code\\': 1087}, \\'wind_mph\\': 8.1, \\'wind_kph\\': 13.0, \\'wind_degree\\': 139, \\'wind_dir\\': \\'SE\\', \\'pressure_mb\\': 1005.0, \\'pressure_in\\': 29.68, \\'precip_mm\\': 0.0, \\'precip_in\\': 0.0, \\'humidity\\': 73, \\'cloud\\': 40, \\'feelslike_c\\': 33.6, \\'feelslike_f\\': 92.4, \\'windchill_c\\': 29.1, \\'windchill_f\\': 84.4, \\'heatindex_c\\': 33.6, \\'heatindex_f\\': 92.4, \\'dewpoint_c\\': 23.8, \\'dewpoint_f\\': 74.8, \\'vis_km\\': 9.0, \\'vis_miles\\': 5.0, \\'uv\\': 0.0, \\'gust_mph\\': 11.2, \\'gust_kph\\': 18.0}}\", \\'score\\': 0.958598}, {\\'title\\': \\'Weather in Vijayawada in April 2025 (State of Andhra Pradesh)\\', \\'url\\': \\'https://world-weather.info/forecast/india/vijayawada/april-2025/\\', \\'content\\': \\'Weather in Vijayawada in April 2025. Vijayawada Weather Forecast for April ... Friday, 11 April. +79°. Day. +97°. Clear sky. Saturday, 12 April. +81°. Day. +95\\', \\'score\\': 0.9554898}]', name='tavily_search_results_json', id='4d2579e8-5973-4f1f-9a48-06c32f6d60ce', tool_call_id='call_pYA7sYXXFTZBGDQui2PErLLg')]}}, 'step': 3, 'parents': {}, 'thread_id': '3'}, created_at='2025-04-11T18:49:54.033551+00:00', parent_config={'configurable': {'thread_id': '3', 'checkpoint_ns': '', 'checkpoint_id': '1f017056-9840-695a-8002-3cc9a23b5754'}}, tasks=(PregelTask(id='74467f34-dde1-20c1-f0ca-7fb3c90a225c', name='llm', path=('__pregel_pull', 'llm'), error=None, interrupts=(), state=None, result={'messages': [AIMessage(content='The current weather in Vijayawada, Andhra Pradesh, India is 29.1°C with thundery outbreaks in nearby areas. The wind speed is 13.0 km/h coming from the southeast. The humidity is at 73%. You can find more information on [Weather in Vijayawada](https://www.weatherapi.com/).', additional_kwargs={'refusal': None}, response_metadata={'token_usage': {'completion_tokens': 75, 'prompt_tokens': 738, 'total_tokens': 813, 'completion_tokens_details': {'accepted_prediction_tokens': 0, 'audio_tokens': 0, 'reasoning_tokens': 0, 'rejected_prediction_tokens': 0}, 'prompt_tokens_details': {'audio_tokens': 0, 'cached_tokens': 0}}, 'model_name': 'gpt-3.5-turbo-0125', 'system_fingerprint': None, 'id': 'chatcmpl-BLDjm8HmjG6MVVvkJh87yy6Mxi0S7', 'finish_reason': 'stop', 'logprobs': None}, id='run-512048eb-2ff1-4145-b82b-2af961a9b4a3-0', usage_metadata={'input_tokens': 738, 'output_tokens': 75, 'total_tokens': 813, 'input_token_details': {'audio': 0, 'cache_read': 0}, 'output_token_details': {'audio': 0, 'reasoning': 0}})]}),))\n",
      "--------\n",
      "StateSnapshot(values={'messages': [HumanMessage(content='What is weather in guntur', additional_kwargs={}, response_metadata={}, id='e0c81b9f-d5f5-4a59-9629-f36f1405cc1f'), AIMessage(content='', additional_kwargs={'tool_calls': [{'id': 'call_pYA7sYXXFTZBGDQui2PErLLg', 'function': {'arguments': '{\"query\":\"weather in Guntur\"}', 'name': 'tavily_search_results_json'}, 'type': 'function'}], 'refusal': None}, response_metadata={'token_usage': {'completion_tokens': 23, 'prompt_tokens': 153, 'total_tokens': 176, 'completion_tokens_details': {'accepted_prediction_tokens': 0, 'audio_tokens': 0, 'reasoning_tokens': 0, 'rejected_prediction_tokens': 0}, 'prompt_tokens_details': {'audio_tokens': 0, 'cached_tokens': 0}}, 'model_name': 'gpt-3.5-turbo-0125', 'system_fingerprint': None, 'id': 'chatcmpl-BLDciwRdt1zBgyt4Wu5RSDUeUIohx', 'finish_reason': 'tool_calls', 'logprobs': None}, id='run-de33aa74-66f6-4c77-815a-35b0dab15ed6-0', tool_calls=[{'name': 'tavily_search_results_json', 'args': {'query': 'weather in Vijayawada'}, 'id': 'call_pYA7sYXXFTZBGDQui2PErLLg', 'type': 'tool_call'}], usage_metadata={'input_tokens': 153, 'output_tokens': 23, 'total_tokens': 176, 'input_token_details': {'audio': 0, 'cache_read': 0}, 'output_token_details': {'audio': 0, 'reasoning': 0}})]}, next=('action',), config={'configurable': {'thread_id': '3', 'checkpoint_ns': '', 'checkpoint_id': '1f017056-9840-695a-8002-3cc9a23b5754'}}, metadata={'source': 'update', 'writes': {'llm': {'messages': [HumanMessage(content='What is weather in guntur', additional_kwargs={}, response_metadata={}, id='e0c81b9f-d5f5-4a59-9629-f36f1405cc1f'), AIMessage(content='', additional_kwargs={'tool_calls': [{'id': 'call_pYA7sYXXFTZBGDQui2PErLLg', 'function': {'arguments': '{\"query\":\"weather in Guntur\"}', 'name': 'tavily_search_results_json'}, 'type': 'function'}], 'refusal': None}, response_metadata={'token_usage': {'completion_tokens': 23, 'prompt_tokens': 153, 'total_tokens': 176, 'completion_tokens_details': {'accepted_prediction_tokens': 0, 'audio_tokens': 0, 'reasoning_tokens': 0, 'rejected_prediction_tokens': 0}, 'prompt_tokens_details': {'audio_tokens': 0, 'cached_tokens': 0}}, 'model_name': 'gpt-3.5-turbo-0125', 'system_fingerprint': None, 'id': 'chatcmpl-BLDciwRdt1zBgyt4Wu5RSDUeUIohx', 'finish_reason': 'tool_calls', 'logprobs': None}, id='run-de33aa74-66f6-4c77-815a-35b0dab15ed6-0', tool_calls=[{'name': 'tavily_search_results_json', 'args': {'query': 'weather in Vijayawada'}, 'id': 'call_pYA7sYXXFTZBGDQui2PErLLg', 'type': 'tool_call'}], usage_metadata={'input_tokens': 153, 'output_tokens': 23, 'total_tokens': 176, 'input_token_details': {'audio': 0, 'cache_read': 0}, 'output_token_details': {'audio': 0, 'reasoning': 0}})]}}, 'step': 2, 'parents': {}, 'thread_id': '3'}, created_at='2025-04-11T18:47:26.102141+00:00', parent_config={'configurable': {'thread_id': '3', 'checkpoint_ns': '', 'checkpoint_id': '1f01704b-d301-611c-8001-c29d38fd31c0'}}, tasks=(PregelTask(id='07ca877f-99a4-a963-6179-bf2ee939eefc', name='action', path=('__pregel_pull', 'action'), error=None, interrupts=(), state=None, result={'messages': [ToolMessage(content='[{\\'title\\': \\'Weather in Vijayawada\\', \\'url\\': \\'https://www.weatherapi.com/\\', \\'content\\': \"{\\'location\\': {\\'name\\': \\'Vijayawada\\', \\'region\\': \\'Andhra Pradesh\\', \\'country\\': \\'India\\', \\'lat\\': 16.5167, \\'lon\\': 80.6167, \\'tz_id\\': \\'Asia/Kolkata\\', \\'localtime_epoch\\': 1744397390, \\'localtime\\': \\'2025-04-12 00:19\\'}, \\'current\\': {\\'last_updated_epoch\\': 1744397100, \\'last_updated\\': \\'2025-04-12 00:15\\', \\'temp_c\\': 29.1, \\'temp_f\\': 84.4, \\'is_day\\': 0, \\'condition\\': {\\'text\\': \\'Thundery outbreaks in nearby\\', \\'icon\\': \\'//cdn.weatherapi.com/weather/64x64/night/200.png\\', \\'code\\': 1087}, \\'wind_mph\\': 8.1, \\'wind_kph\\': 13.0, \\'wind_degree\\': 139, \\'wind_dir\\': \\'SE\\', \\'pressure_mb\\': 1005.0, \\'pressure_in\\': 29.68, \\'precip_mm\\': 0.0, \\'precip_in\\': 0.0, \\'humidity\\': 73, \\'cloud\\': 40, \\'feelslike_c\\': 33.6, \\'feelslike_f\\': 92.4, \\'windchill_c\\': 29.1, \\'windchill_f\\': 84.4, \\'heatindex_c\\': 33.6, \\'heatindex_f\\': 92.4, \\'dewpoint_c\\': 23.8, \\'dewpoint_f\\': 74.8, \\'vis_km\\': 9.0, \\'vis_miles\\': 5.0, \\'uv\\': 0.0, \\'gust_mph\\': 11.2, \\'gust_kph\\': 18.0}}\", \\'score\\': 0.958598}, {\\'title\\': \\'Weather in Vijayawada in April 2025 (State of Andhra Pradesh)\\', \\'url\\': \\'https://world-weather.info/forecast/india/vijayawada/april-2025/\\', \\'content\\': \\'Weather in Vijayawada in April 2025. Vijayawada Weather Forecast for April ... Friday, 11 April. +79°. Day. +97°. Clear sky. Saturday, 12 April. +81°. Day. +95\\', \\'score\\': 0.9554898}]', name='tavily_search_results_json', tool_call_id='call_pYA7sYXXFTZBGDQui2PErLLg')]}),))\n",
      "--------\n",
      "StateSnapshot(values={'messages': [HumanMessage(content='What is weather in guntur', additional_kwargs={}, response_metadata={}, id='e0c81b9f-d5f5-4a59-9629-f36f1405cc1f'), AIMessage(content='', additional_kwargs={'tool_calls': [{'id': 'call_pYA7sYXXFTZBGDQui2PErLLg', 'function': {'arguments': '{\"query\":\"weather in Guntur\"}', 'name': 'tavily_search_results_json'}, 'type': 'function'}], 'refusal': None}, response_metadata={'token_usage': {'completion_tokens': 23, 'prompt_tokens': 153, 'total_tokens': 176, 'completion_tokens_details': {'accepted_prediction_tokens': 0, 'audio_tokens': 0, 'reasoning_tokens': 0, 'rejected_prediction_tokens': 0}, 'prompt_tokens_details': {'audio_tokens': 0, 'cached_tokens': 0}}, 'model_name': 'gpt-3.5-turbo-0125', 'system_fingerprint': None, 'id': 'chatcmpl-BLDciwRdt1zBgyt4Wu5RSDUeUIohx', 'finish_reason': 'tool_calls', 'logprobs': None}, id='run-de33aa74-66f6-4c77-815a-35b0dab15ed6-0', tool_calls=[{'name': 'tavily_search_results_json', 'args': {'query': 'weather in Guntur'}, 'id': 'call_pYA7sYXXFTZBGDQui2PErLLg', 'type': 'tool_call'}], usage_metadata={'input_tokens': 153, 'output_tokens': 23, 'total_tokens': 176, 'input_token_details': {'audio': 0, 'cache_read': 0}, 'output_token_details': {'audio': 0, 'reasoning': 0}})]}, next=('action',), config={'configurable': {'thread_id': '3', 'checkpoint_ns': '', 'checkpoint_id': '1f01704b-d301-611c-8001-c29d38fd31c0'}}, metadata={'source': 'loop', 'writes': {'llm': {'messages': [AIMessage(content='', additional_kwargs={'tool_calls': [{'id': 'call_pYA7sYXXFTZBGDQui2PErLLg', 'function': {'arguments': '{\"query\":\"weather in Guntur\"}', 'name': 'tavily_search_results_json'}, 'type': 'function'}], 'refusal': None}, response_metadata={'token_usage': {'completion_tokens': 23, 'prompt_tokens': 153, 'total_tokens': 176, 'completion_tokens_details': {'accepted_prediction_tokens': 0, 'audio_tokens': 0, 'reasoning_tokens': 0, 'rejected_prediction_tokens': 0}, 'prompt_tokens_details': {'audio_tokens': 0, 'cached_tokens': 0}}, 'model_name': 'gpt-3.5-turbo-0125', 'system_fingerprint': None, 'id': 'chatcmpl-BLDciwRdt1zBgyt4Wu5RSDUeUIohx', 'finish_reason': 'tool_calls', 'logprobs': None}, id='run-de33aa74-66f6-4c77-815a-35b0dab15ed6-0', tool_calls=[{'name': 'tavily_search_results_json', 'args': {'query': 'weather in Guntur'}, 'id': 'call_pYA7sYXXFTZBGDQui2PErLLg', 'type': 'tool_call'}], usage_metadata={'input_tokens': 153, 'output_tokens': 23, 'total_tokens': 176, 'input_token_details': {'audio': 0, 'cache_read': 0}, 'output_token_details': {'audio': 0, 'reasoning': 0}})]}}, 'step': 1, 'parents': {}, 'thread_id': '3'}, created_at='2025-04-11T18:42:36.983714+00:00', parent_config={'configurable': {'thread_id': '3', 'checkpoint_ns': '', 'checkpoint_id': '1f01704b-c6ed-61b4-8000-aafe7d2331aa'}}, tasks=(PregelTask(id='ba8bf1a9-8097-f3dc-3383-a4f495749634', name='action', path=('__pregel_pull', 'action'), error=None, interrupts=(), state=None, result=None),))\n",
      "--------\n",
      "StateSnapshot(values={'messages': [HumanMessage(content='What is weather in guntur', additional_kwargs={}, response_metadata={}, id='e0c81b9f-d5f5-4a59-9629-f36f1405cc1f')]}, next=('llm',), config={'configurable': {'thread_id': '3', 'checkpoint_ns': '', 'checkpoint_id': '1f01704b-c6ed-61b4-8000-aafe7d2331aa'}}, metadata={'source': 'loop', 'writes': None, 'step': 0, 'parents': {}, 'thread_id': '3'}, created_at='2025-04-11T18:42:35.717261+00:00', parent_config={'configurable': {'thread_id': '3', 'checkpoint_ns': '', 'checkpoint_id': '1f01704b-c6eb-610c-bfff-f767f1d90717'}}, tasks=(PregelTask(id='99060334-097d-bf02-5bb2-94bfe50da628', name='llm', path=('__pregel_pull', 'llm'), error=None, interrupts=(), state=None, result={'messages': [AIMessage(content='', additional_kwargs={'tool_calls': [{'id': 'call_pYA7sYXXFTZBGDQui2PErLLg', 'function': {'arguments': '{\"query\":\"weather in Guntur\"}', 'name': 'tavily_search_results_json'}, 'type': 'function'}], 'refusal': None}, response_metadata={'token_usage': {'completion_tokens': 23, 'prompt_tokens': 153, 'total_tokens': 176, 'completion_tokens_details': {'accepted_prediction_tokens': 0, 'audio_tokens': 0, 'reasoning_tokens': 0, 'rejected_prediction_tokens': 0}, 'prompt_tokens_details': {'audio_tokens': 0, 'cached_tokens': 0}}, 'model_name': 'gpt-3.5-turbo-0125', 'system_fingerprint': None, 'id': 'chatcmpl-BLDciwRdt1zBgyt4Wu5RSDUeUIohx', 'finish_reason': 'tool_calls', 'logprobs': None}, id='run-de33aa74-66f6-4c77-815a-35b0dab15ed6-0', tool_calls=[{'name': 'tavily_search_results_json', 'args': {'query': 'weather in Guntur'}, 'id': 'call_pYA7sYXXFTZBGDQui2PErLLg', 'type': 'tool_call'}], usage_metadata={'input_tokens': 153, 'output_tokens': 23, 'total_tokens': 176, 'input_token_details': {'audio': 0, 'cache_read': 0}, 'output_token_details': {'audio': 0, 'reasoning': 0}})]}),))\n",
      "--------\n",
      "StateSnapshot(values={'messages': []}, next=('__start__',), config={'configurable': {'thread_id': '3', 'checkpoint_ns': '', 'checkpoint_id': '1f01704b-c6eb-610c-bfff-f767f1d90717'}}, metadata={'source': 'input', 'writes': {'__start__': {'messages': [HumanMessage(content='What is weather in guntur', additional_kwargs={}, response_metadata={})]}}, 'step': -1, 'parents': {}, 'thread_id': '3'}, created_at='2025-04-11T18:42:35.716425+00:00', parent_config=None, tasks=(PregelTask(id='17b8d73e-0c70-c6b3-64d9-e5c79fdc8765', name='__start__', path=('__pregel_pull', '__start__'), error=None, interrupts=(), state=None, result={'messages': [HumanMessage(content='What is weather in guntur', additional_kwargs={}, response_metadata={}, id='e0c81b9f-d5f5-4a59-9629-f36f1405cc1f')]}),))\n",
      "--------\n"
     ]
    }
   ],
   "source": [
    "states = []\n",
    "for state in abot.graph.get_state_history(thread):\n",
    "    print(state)\n",
    "    print(\"--------\")\n",
    "    states.append(state)"
   ]
  },
  {
   "cell_type": "code",
   "execution_count": 32,
   "id": "574b0f17",
   "metadata": {},
   "outputs": [],
   "source": [
    "to_reply = states[-3]"
   ]
  },
  {
   "cell_type": "code",
   "execution_count": 33,
   "id": "0c9eef0d",
   "metadata": {},
   "outputs": [
    {
     "data": {
      "text/plain": [
       "StateSnapshot(values={'messages': [HumanMessage(content='What is weather in guntur', additional_kwargs={}, response_metadata={}, id='e0c81b9f-d5f5-4a59-9629-f36f1405cc1f'), AIMessage(content='', additional_kwargs={'tool_calls': [{'id': 'call_pYA7sYXXFTZBGDQui2PErLLg', 'function': {'arguments': '{\"query\":\"weather in Guntur\"}', 'name': 'tavily_search_results_json'}, 'type': 'function'}], 'refusal': None}, response_metadata={'token_usage': {'completion_tokens': 23, 'prompt_tokens': 153, 'total_tokens': 176, 'completion_tokens_details': {'accepted_prediction_tokens': 0, 'audio_tokens': 0, 'reasoning_tokens': 0, 'rejected_prediction_tokens': 0}, 'prompt_tokens_details': {'audio_tokens': 0, 'cached_tokens': 0}}, 'model_name': 'gpt-3.5-turbo-0125', 'system_fingerprint': None, 'id': 'chatcmpl-BLDciwRdt1zBgyt4Wu5RSDUeUIohx', 'finish_reason': 'tool_calls', 'logprobs': None}, id='run-de33aa74-66f6-4c77-815a-35b0dab15ed6-0', tool_calls=[{'name': 'tavily_search_results_json', 'args': {'query': 'weather in Guntur'}, 'id': 'call_pYA7sYXXFTZBGDQui2PErLLg', 'type': 'tool_call'}], usage_metadata={'input_tokens': 153, 'output_tokens': 23, 'total_tokens': 176, 'input_token_details': {'audio': 0, 'cache_read': 0}, 'output_token_details': {'audio': 0, 'reasoning': 0}})]}, next=('action',), config={'configurable': {'thread_id': '3', 'checkpoint_ns': '', 'checkpoint_id': '1f01704b-d301-611c-8001-c29d38fd31c0'}}, metadata={'source': 'loop', 'writes': {'llm': {'messages': [AIMessage(content='', additional_kwargs={'tool_calls': [{'id': 'call_pYA7sYXXFTZBGDQui2PErLLg', 'function': {'arguments': '{\"query\":\"weather in Guntur\"}', 'name': 'tavily_search_results_json'}, 'type': 'function'}], 'refusal': None}, response_metadata={'token_usage': {'completion_tokens': 23, 'prompt_tokens': 153, 'total_tokens': 176, 'completion_tokens_details': {'accepted_prediction_tokens': 0, 'audio_tokens': 0, 'reasoning_tokens': 0, 'rejected_prediction_tokens': 0}, 'prompt_tokens_details': {'audio_tokens': 0, 'cached_tokens': 0}}, 'model_name': 'gpt-3.5-turbo-0125', 'system_fingerprint': None, 'id': 'chatcmpl-BLDciwRdt1zBgyt4Wu5RSDUeUIohx', 'finish_reason': 'tool_calls', 'logprobs': None}, id='run-de33aa74-66f6-4c77-815a-35b0dab15ed6-0', tool_calls=[{'name': 'tavily_search_results_json', 'args': {'query': 'weather in Guntur'}, 'id': 'call_pYA7sYXXFTZBGDQui2PErLLg', 'type': 'tool_call'}], usage_metadata={'input_tokens': 153, 'output_tokens': 23, 'total_tokens': 176, 'input_token_details': {'audio': 0, 'cache_read': 0}, 'output_token_details': {'audio': 0, 'reasoning': 0}})]}}, 'step': 1, 'parents': {}, 'thread_id': '3'}, created_at='2025-04-11T18:42:36.983714+00:00', parent_config={'configurable': {'thread_id': '3', 'checkpoint_ns': '', 'checkpoint_id': '1f01704b-c6ed-61b4-8000-aafe7d2331aa'}}, tasks=(PregelTask(id='ba8bf1a9-8097-f3dc-3383-a4f495749634', name='action', path=('__pregel_pull', 'action'), error=None, interrupts=(), state=None, result=None),))"
      ]
     },
     "execution_count": 33,
     "metadata": {},
     "output_type": "execute_result"
    }
   ],
   "source": [
    "to_reply"
   ]
  },
  {
   "cell_type": "code",
   "execution_count": 36,
   "id": "45cc9166",
   "metadata": {},
   "outputs": [
    {
     "name": "stdout",
     "output_type": "stream",
     "text": [
      "Calling {'name': 'tavily_search_results_json', 'args': {'query': 'weather in Guntur'}, 'id': 'call_pYA7sYXXFTZBGDQui2PErLLg', 'type': 'tool_call'}\n",
      "Back to model\n",
      "{'messages': [ToolMessage(content='[{\\'title\\': \\'Weather in Guntur\\', \\'url\\': \\'https://www.weatherapi.com/\\', \\'content\\': \"{\\'location\\': {\\'name\\': \\'Guntur\\', \\'region\\': \\'Andhra Pradesh\\', \\'country\\': \\'India\\', \\'lat\\': 16.3, \\'lon\\': 80.45, \\'tz_id\\': \\'Asia/Kolkata\\', \\'localtime_epoch\\': 1744397781, \\'localtime\\': \\'2025-04-12 00:26\\'}, \\'current\\': {\\'last_updated_epoch\\': 1744397100, \\'last_updated\\': \\'2025-04-12 00:15\\', \\'temp_c\\': 29.2, \\'temp_f\\': 84.6, \\'is_day\\': 0, \\'condition\\': {\\'text\\': \\'Partly Cloudy\\', \\'icon\\': \\'//cdn.weatherapi.com/weather/64x64/night/116.png\\', \\'code\\': 1003}, \\'wind_mph\\': 9.6, \\'wind_kph\\': 15.5, \\'wind_degree\\': 162, \\'wind_dir\\': \\'SSE\\', \\'pressure_mb\\': 1005.0, \\'pressure_in\\': 29.67, \\'precip_mm\\': 0.0, \\'precip_in\\': 0.0, \\'humidity\\': 75, \\'cloud\\': 46, \\'feelslike_c\\': 34.2, \\'feelslike_f\\': 93.6, \\'windchill_c\\': 29.3, \\'windchill_f\\': 84.7, \\'heatindex_c\\': 34.2, \\'heatindex_f\\': 93.6, \\'dewpoint_c\\': 24.3, \\'dewpoint_f\\': 75.7, \\'vis_km\\': 10.0, \\'vis_miles\\': 6.0, \\'uv\\': 0.0, \\'gust_mph\\': 13.2, \\'gust_kph\\': 21.2}}\", \\'score\\': 0.9681169}, {\\'title\\': \\'Weather Report for Guntur, India - WeatherCity\\', \\'url\\': \\'https://www.weathercity.com/in/guntur\\', \\'content\\': \\'Friday, April 11th, 2025. Overnight, Temperature: 30°C. A mix of clear and cloudy skies. Chance of a thunderstorm. Morning, Temperature: 42°C. Sunny with cloudy\\', \\'score\\': 0.9403148}]', name='tavily_search_results_json', id='a65880fd-b75f-4d01-b7b2-eb4e88959d6f', tool_call_id='call_pYA7sYXXFTZBGDQui2PErLLg')]}\n",
      "State : {'messages': [HumanMessage(content='What is weather in guntur', additional_kwargs={}, response_metadata={}, id='e0c81b9f-d5f5-4a59-9629-f36f1405cc1f'), AIMessage(content='', additional_kwargs={'tool_calls': [{'id': 'call_pYA7sYXXFTZBGDQui2PErLLg', 'function': {'arguments': '{\"query\":\"weather in Guntur\"}', 'name': 'tavily_search_results_json'}, 'type': 'function'}], 'refusal': None}, response_metadata={'token_usage': {'completion_tokens': 23, 'prompt_tokens': 153, 'total_tokens': 176, 'completion_tokens_details': {'accepted_prediction_tokens': 0, 'audio_tokens': 0, 'reasoning_tokens': 0, 'rejected_prediction_tokens': 0}, 'prompt_tokens_details': {'audio_tokens': 0, 'cached_tokens': 0}}, 'model_name': 'gpt-3.5-turbo-0125', 'system_fingerprint': None, 'id': 'chatcmpl-BLDciwRdt1zBgyt4Wu5RSDUeUIohx', 'finish_reason': 'tool_calls', 'logprobs': None}, id='run-de33aa74-66f6-4c77-815a-35b0dab15ed6-0', tool_calls=[{'name': 'tavily_search_results_json', 'args': {'query': 'weather in Guntur'}, 'id': 'call_pYA7sYXXFTZBGDQui2PErLLg', 'type': 'tool_call'}], usage_metadata={'input_tokens': 153, 'output_tokens': 23, 'total_tokens': 176, 'input_token_details': {'audio': 0, 'cache_read': 0}, 'output_token_details': {'audio': 0, 'reasoning': 0}}), ToolMessage(content='[{\\'title\\': \\'Weather in Guntur\\', \\'url\\': \\'https://www.weatherapi.com/\\', \\'content\\': \"{\\'location\\': {\\'name\\': \\'Guntur\\', \\'region\\': \\'Andhra Pradesh\\', \\'country\\': \\'India\\', \\'lat\\': 16.3, \\'lon\\': 80.45, \\'tz_id\\': \\'Asia/Kolkata\\', \\'localtime_epoch\\': 1744397781, \\'localtime\\': \\'2025-04-12 00:26\\'}, \\'current\\': {\\'last_updated_epoch\\': 1744397100, \\'last_updated\\': \\'2025-04-12 00:15\\', \\'temp_c\\': 29.2, \\'temp_f\\': 84.6, \\'is_day\\': 0, \\'condition\\': {\\'text\\': \\'Partly Cloudy\\', \\'icon\\': \\'//cdn.weatherapi.com/weather/64x64/night/116.png\\', \\'code\\': 1003}, \\'wind_mph\\': 9.6, \\'wind_kph\\': 15.5, \\'wind_degree\\': 162, \\'wind_dir\\': \\'SSE\\', \\'pressure_mb\\': 1005.0, \\'pressure_in\\': 29.67, \\'precip_mm\\': 0.0, \\'precip_in\\': 0.0, \\'humidity\\': 75, \\'cloud\\': 46, \\'feelslike_c\\': 34.2, \\'feelslike_f\\': 93.6, \\'windchill_c\\': 29.3, \\'windchill_f\\': 84.7, \\'heatindex_c\\': 34.2, \\'heatindex_f\\': 93.6, \\'dewpoint_c\\': 24.3, \\'dewpoint_f\\': 75.7, \\'vis_km\\': 10.0, \\'vis_miles\\': 6.0, \\'uv\\': 0.0, \\'gust_mph\\': 13.2, \\'gust_kph\\': 21.2}}\", \\'score\\': 0.9681169}, {\\'title\\': \\'Weather Report for Guntur, India - WeatherCity\\', \\'url\\': \\'https://www.weathercity.com/in/guntur\\', \\'content\\': \\'Friday, April 11th, 2025. Overnight, Temperature: 30°C. A mix of clear and cloudy skies. Chance of a thunderstorm. Morning, Temperature: 42°C. Sunny with cloudy\\', \\'score\\': 0.9403148}]', name='tavily_search_results_json', id='a65880fd-b75f-4d01-b7b2-eb4e88959d6f', tool_call_id='call_pYA7sYXXFTZBGDQui2PErLLg'), AIMessage(content='The current weather in Guntur, Andhra Pradesh, India is partly cloudy with a temperature of 29.2°C (84.6°F). The wind speed is around 15.5 km/h coming from the SSE direction. The humidity is at 75% with a dew point of 24.3°C (75.7°F).', additional_kwargs={'refusal': None}, response_metadata={'token_usage': {'completion_tokens': 73, 'prompt_tokens': 705, 'total_tokens': 778, 'completion_tokens_details': {'accepted_prediction_tokens': 0, 'audio_tokens': 0, 'reasoning_tokens': 0, 'rejected_prediction_tokens': 0}, 'prompt_tokens_details': {'audio_tokens': 0, 'cached_tokens': 0}}, 'model_name': 'gpt-3.5-turbo-0125', 'system_fingerprint': None, 'id': 'chatcmpl-BLDq5ofsVudxaeyeo9XOgEKiPOPgW', 'finish_reason': 'stop', 'logprobs': None}, id='run-cc7ada4d-a3f0-4979-a118-08a0b9947dcd-0', usage_metadata={'input_tokens': 705, 'output_tokens': 73, 'total_tokens': 778, 'input_token_details': {'audio': 0, 'cache_read': 0}, 'output_token_details': {'audio': 0, 'reasoning': 0}})]}\n",
      "{'messages': [AIMessage(content='The current weather in Guntur, Andhra Pradesh, India is partly cloudy with a temperature of 29.2°C (84.6°F). The wind speed is around 15.5 km/h coming from the SSE direction. The humidity is at 75% with a dew point of 24.3°C (75.7°F).', additional_kwargs={'refusal': None}, response_metadata={'token_usage': {'completion_tokens': 73, 'prompt_tokens': 705, 'total_tokens': 778, 'completion_tokens_details': {'accepted_prediction_tokens': 0, 'audio_tokens': 0, 'reasoning_tokens': 0, 'rejected_prediction_tokens': 0}, 'prompt_tokens_details': {'audio_tokens': 0, 'cached_tokens': 0}}, 'model_name': 'gpt-3.5-turbo-0125', 'system_fingerprint': None, 'id': 'chatcmpl-BLDq5ofsVudxaeyeo9XOgEKiPOPgW', 'finish_reason': 'stop', 'logprobs': None}, id='run-cc7ada4d-a3f0-4979-a118-08a0b9947dcd-0', usage_metadata={'input_tokens': 705, 'output_tokens': 73, 'total_tokens': 778, 'input_token_details': {'audio': 0, 'cache_read': 0}, 'output_token_details': {'audio': 0, 'reasoning': 0}})]}\n"
     ]
    }
   ],
   "source": [
    "for event in abot.graph.stream(None, to_reply.config):\n",
    "    for k,v in event.items():\n",
    "        print(v)"
   ]
  },
  {
   "cell_type": "markdown",
   "id": "fae7e38b",
   "metadata": {},
   "source": [
    "# Go back in time and edit"
   ]
  },
  {
   "cell_type": "code",
   "execution_count": 38,
   "id": "66db09e2",
   "metadata": {},
   "outputs": [],
   "source": [
    "_id = to_reply.values[\"messages\"][-1].tool_calls[0][\"id\"]"
   ]
  },
  {
   "cell_type": "code",
   "execution_count": 39,
   "id": "7ea48b1e",
   "metadata": {},
   "outputs": [],
   "source": [
    "to_reply.values[\"messages\"][-1].tool_calls[0] = {'name': 'tavily_search_results_json', 'args': {'query': 'weather in New york'}, 'id':_id}"
   ]
  },
  {
   "cell_type": "code",
   "execution_count": 40,
   "id": "f15a92e7",
   "metadata": {},
   "outputs": [
    {
     "name": "stdout",
     "output_type": "stream",
     "text": [
      "State : {'messages': [HumanMessage(content='What is weather in guntur', additional_kwargs={}, response_metadata={}, id='e0c81b9f-d5f5-4a59-9629-f36f1405cc1f'), AIMessage(content='', additional_kwargs={'tool_calls': [{'id': 'call_pYA7sYXXFTZBGDQui2PErLLg', 'function': {'arguments': '{\"query\":\"weather in Guntur\"}', 'name': 'tavily_search_results_json'}, 'type': 'function'}], 'refusal': None}, response_metadata={'token_usage': {'completion_tokens': 23, 'prompt_tokens': 153, 'total_tokens': 176, 'completion_tokens_details': {'accepted_prediction_tokens': 0, 'audio_tokens': 0, 'reasoning_tokens': 0, 'rejected_prediction_tokens': 0}, 'prompt_tokens_details': {'audio_tokens': 0, 'cached_tokens': 0}}, 'model_name': 'gpt-3.5-turbo-0125', 'system_fingerprint': None, 'id': 'chatcmpl-BLDciwRdt1zBgyt4Wu5RSDUeUIohx', 'finish_reason': 'tool_calls', 'logprobs': None}, id='run-de33aa74-66f6-4c77-815a-35b0dab15ed6-0', tool_calls=[{'name': 'tavily_search_results_json', 'args': {'query': 'weather in New york'}, 'id': 'call_pYA7sYXXFTZBGDQui2PErLLg'}], usage_metadata={'input_tokens': 153, 'output_tokens': 23, 'total_tokens': 176, 'input_token_details': {'audio': 0, 'cache_read': 0}, 'output_token_details': {'audio': 0, 'reasoning': 0}})]}\n"
     ]
    }
   ],
   "source": [
    "branch_state = abot.graph.update_state(to_reply.config, to_reply.values)"
   ]
  },
  {
   "cell_type": "code",
   "execution_count": 41,
   "id": "38d5d21d",
   "metadata": {},
   "outputs": [
    {
     "name": "stdout",
     "output_type": "stream",
     "text": [
      "Calling {'name': 'tavily_search_results_json', 'args': {'query': 'weather in New york'}, 'id': 'call_pYA7sYXXFTZBGDQui2PErLLg', 'type': 'tool_call'}\n",
      "Back to model\n",
      "{'messages': [ToolMessage(content='[{\\'title\\': \\'Weather in New York City in April 2025 - Detailed Forecast\\', \\'url\\': \\'https://www.easeweather.com/north-america/united-states/new-york/new-york-city/april\\', \\'content\\': \\'| Apr. 9 | \\\\nOvercast\\\\n| 44° /33° | 0\\\\xa0in | 2 |  |\\\\n| Apr. 10 | \\\\nSunny\\\\n| 48° /32° | 0\\\\xa0in | 2 |  |\\\\n| Apr. 11 | \\\\nSunny\\\\n| 51° /39° | 0\\\\xa0in | 3 |  |\\\\n| Apr. 12 | \\\\nPatchy rain possible\\\\n| 55° /44° | 0.01\\\\xa0in | 3 |  |\\\\n| Apr. 13 | \\\\nSunny\\\\n| 59° /44° | 0\\\\xa0in | 4 |  |\\\\n| Apr. 14 | \\\\nSunny\\\\n| 55° /37° | 0\\\\xa0in | 3 |  |\\\\n| Apr. 15 | \\\\nModerate or heavy rain shower\\\\n| 64° /50° | 0.2\\\\xa0in | 4 |  |\\\\n| Apr. 16 | \\\\nModerate rain at times\\\\n| 62° /48° | 0.08\\\\xa0in | 4 |  |\\\\n| Apr. 17 | \\\\nCloudy\\\\n| 59° /44° | 0.09\\\\xa0in | 4 |  |\\\\n| Apr. 18 | [...] April\\\\nJanuaryFebruaryMarch\\\\nApril\\\\nMayJuneJulyAugustSeptemberOctoberNovemberDecember\\\\nWeather in New York City for April 2025\\\\nYour guide to New York City weather in April - trends and predictions\\\\nTemperatures\\\\n\\\\n\\\\nThe forecast for the next days in New York City predicts temperatures to be around 55\\\\xa0°F, close to the historical average. [...] This marks the onset of spring, and the city becomes more vibrant as flowers bloom and outdoor events become more popular.\\\\nIn terms of precipitation, April in New York City sees an average of 12 days of rainfall throughout the month. However, the showers are usually light and brief, allowing for plenty of opportunities to explore the city without being hindered by the weather.\\', \\'score\\': 0.9088853}, {\\'title\\': \\'Weather in New York\\', \\'url\\': \\'https://www.weatherapi.com/\\', \\'content\\': \"{\\'location\\': {\\'name\\': \\'New York\\', \\'region\\': \\'New York\\', \\'country\\': \\'United States of America\\', \\'lat\\': 40.7142, \\'lon\\': -74.0064, \\'tz_id\\': \\'America/New_York\\', \\'localtime_epoch\\': 1744398446, \\'localtime\\': \\'2025-04-11 15:07\\'}, \\'current\\': {\\'last_updated_epoch\\': 1744398000, \\'last_updated\\': \\'2025-04-11 15:00\\', \\'temp_c\\': 6.7, \\'temp_f\\': 44.1, \\'is_day\\': 1, \\'condition\\': {\\'text\\': \\'Light rain\\', \\'icon\\': \\'//cdn.weatherapi.com/weather/64x64/day/296.png\\', \\'code\\': 1183}, \\'wind_mph\\': 9.2, \\'wind_kph\\': 14.8, \\'wind_degree\\': 86, \\'wind_dir\\': \\'E\\', \\'pressure_mb\\': 1022.0, \\'pressure_in\\': 30.17, \\'precip_mm\\': 0.0, \\'precip_in\\': 0.0, \\'humidity\\': 85, \\'cloud\\': 100, \\'feelslike_c\\': 3.9, \\'feelslike_f\\': 39.0, \\'windchill_c\\': 4.9, \\'windchill_f\\': 40.8, \\'heatindex_c\\': 7.7, \\'heatindex_f\\': 45.9, \\'dewpoint_c\\': 5.5, \\'dewpoint_f\\': 41.9, \\'vis_km\\': 14.0, \\'vis_miles\\': 8.0, \\'uv\\': 1.5, \\'gust_mph\\': 12.3, \\'gust_kph\\': 19.7}}\", \\'score\\': 0.9014359}]', name='tavily_search_results_json', id='8a5d40a0-d6b8-4d8f-bacd-58f29b2a28d2', tool_call_id='call_pYA7sYXXFTZBGDQui2PErLLg')]}\n",
      "State : {'messages': [HumanMessage(content='What is weather in guntur', additional_kwargs={}, response_metadata={}, id='e0c81b9f-d5f5-4a59-9629-f36f1405cc1f'), AIMessage(content='', additional_kwargs={'tool_calls': [{'id': 'call_pYA7sYXXFTZBGDQui2PErLLg', 'function': {'arguments': '{\"query\":\"weather in Guntur\"}', 'name': 'tavily_search_results_json'}, 'type': 'function'}], 'refusal': None}, response_metadata={'token_usage': {'completion_tokens': 23, 'prompt_tokens': 153, 'total_tokens': 176, 'completion_tokens_details': {'accepted_prediction_tokens': 0, 'audio_tokens': 0, 'reasoning_tokens': 0, 'rejected_prediction_tokens': 0}, 'prompt_tokens_details': {'audio_tokens': 0, 'cached_tokens': 0}}, 'model_name': 'gpt-3.5-turbo-0125', 'system_fingerprint': None, 'id': 'chatcmpl-BLDciwRdt1zBgyt4Wu5RSDUeUIohx', 'finish_reason': 'tool_calls', 'logprobs': None}, id='run-de33aa74-66f6-4c77-815a-35b0dab15ed6-0', tool_calls=[{'name': 'tavily_search_results_json', 'args': {'query': 'weather in New york'}, 'id': 'call_pYA7sYXXFTZBGDQui2PErLLg', 'type': 'tool_call'}], usage_metadata={'input_tokens': 153, 'output_tokens': 23, 'total_tokens': 176, 'input_token_details': {'audio': 0, 'cache_read': 0}, 'output_token_details': {'audio': 0, 'reasoning': 0}}), ToolMessage(content='[{\\'title\\': \\'Weather in New York City in April 2025 - Detailed Forecast\\', \\'url\\': \\'https://www.easeweather.com/north-america/united-states/new-york/new-york-city/april\\', \\'content\\': \\'| Apr. 9 | \\\\nOvercast\\\\n| 44° /33° | 0\\\\xa0in | 2 |  |\\\\n| Apr. 10 | \\\\nSunny\\\\n| 48° /32° | 0\\\\xa0in | 2 |  |\\\\n| Apr. 11 | \\\\nSunny\\\\n| 51° /39° | 0\\\\xa0in | 3 |  |\\\\n| Apr. 12 | \\\\nPatchy rain possible\\\\n| 55° /44° | 0.01\\\\xa0in | 3 |  |\\\\n| Apr. 13 | \\\\nSunny\\\\n| 59° /44° | 0\\\\xa0in | 4 |  |\\\\n| Apr. 14 | \\\\nSunny\\\\n| 55° /37° | 0\\\\xa0in | 3 |  |\\\\n| Apr. 15 | \\\\nModerate or heavy rain shower\\\\n| 64° /50° | 0.2\\\\xa0in | 4 |  |\\\\n| Apr. 16 | \\\\nModerate rain at times\\\\n| 62° /48° | 0.08\\\\xa0in | 4 |  |\\\\n| Apr. 17 | \\\\nCloudy\\\\n| 59° /44° | 0.09\\\\xa0in | 4 |  |\\\\n| Apr. 18 | [...] April\\\\nJanuaryFebruaryMarch\\\\nApril\\\\nMayJuneJulyAugustSeptemberOctoberNovemberDecember\\\\nWeather in New York City for April 2025\\\\nYour guide to New York City weather in April - trends and predictions\\\\nTemperatures\\\\n\\\\n\\\\nThe forecast for the next days in New York City predicts temperatures to be around 55\\\\xa0°F, close to the historical average. [...] This marks the onset of spring, and the city becomes more vibrant as flowers bloom and outdoor events become more popular.\\\\nIn terms of precipitation, April in New York City sees an average of 12 days of rainfall throughout the month. However, the showers are usually light and brief, allowing for plenty of opportunities to explore the city without being hindered by the weather.\\', \\'score\\': 0.9088853}, {\\'title\\': \\'Weather in New York\\', \\'url\\': \\'https://www.weatherapi.com/\\', \\'content\\': \"{\\'location\\': {\\'name\\': \\'New York\\', \\'region\\': \\'New York\\', \\'country\\': \\'United States of America\\', \\'lat\\': 40.7142, \\'lon\\': -74.0064, \\'tz_id\\': \\'America/New_York\\', \\'localtime_epoch\\': 1744398446, \\'localtime\\': \\'2025-04-11 15:07\\'}, \\'current\\': {\\'last_updated_epoch\\': 1744398000, \\'last_updated\\': \\'2025-04-11 15:00\\', \\'temp_c\\': 6.7, \\'temp_f\\': 44.1, \\'is_day\\': 1, \\'condition\\': {\\'text\\': \\'Light rain\\', \\'icon\\': \\'//cdn.weatherapi.com/weather/64x64/day/296.png\\', \\'code\\': 1183}, \\'wind_mph\\': 9.2, \\'wind_kph\\': 14.8, \\'wind_degree\\': 86, \\'wind_dir\\': \\'E\\', \\'pressure_mb\\': 1022.0, \\'pressure_in\\': 30.17, \\'precip_mm\\': 0.0, \\'precip_in\\': 0.0, \\'humidity\\': 85, \\'cloud\\': 100, \\'feelslike_c\\': 3.9, \\'feelslike_f\\': 39.0, \\'windchill_c\\': 4.9, \\'windchill_f\\': 40.8, \\'heatindex_c\\': 7.7, \\'heatindex_f\\': 45.9, \\'dewpoint_c\\': 5.5, \\'dewpoint_f\\': 41.9, \\'vis_km\\': 14.0, \\'vis_miles\\': 8.0, \\'uv\\': 1.5, \\'gust_mph\\': 12.3, \\'gust_kph\\': 19.7}}\", \\'score\\': 0.9014359}]', name='tavily_search_results_json', id='8a5d40a0-d6b8-4d8f-bacd-58f29b2a28d2', tool_call_id='call_pYA7sYXXFTZBGDQui2PErLLg'), AIMessage(content='I found information about the weather in New York City. The current weather there is light rain with a temperature of 44.1°F (6.7°C). If you are looking for weather information in Guntur, please let me know so I can search for that specifically.', additional_kwargs={'refusal': None}, response_metadata={'token_usage': {'completion_tokens': 59, 'prompt_tokens': 1127, 'total_tokens': 1186, 'completion_tokens_details': {'accepted_prediction_tokens': 0, 'audio_tokens': 0, 'reasoning_tokens': 0, 'rejected_prediction_tokens': 0}, 'prompt_tokens_details': {'audio_tokens': 0, 'cached_tokens': 0}}, 'model_name': 'gpt-3.5-turbo-0125', 'system_fingerprint': None, 'id': 'chatcmpl-BLE0mYNbnkJ4NyczZ0Iv1e9mfvQmk', 'finish_reason': 'stop', 'logprobs': None}, id='run-a9416d74-9b35-4287-b96e-733f3c27654a-0', usage_metadata={'input_tokens': 1127, 'output_tokens': 59, 'total_tokens': 1186, 'input_token_details': {'audio': 0, 'cache_read': 0}, 'output_token_details': {'audio': 0, 'reasoning': 0}})]}\n",
      "{'messages': [AIMessage(content='I found information about the weather in New York City. The current weather there is light rain with a temperature of 44.1°F (6.7°C). If you are looking for weather information in Guntur, please let me know so I can search for that specifically.', additional_kwargs={'refusal': None}, response_metadata={'token_usage': {'completion_tokens': 59, 'prompt_tokens': 1127, 'total_tokens': 1186, 'completion_tokens_details': {'accepted_prediction_tokens': 0, 'audio_tokens': 0, 'reasoning_tokens': 0, 'rejected_prediction_tokens': 0}, 'prompt_tokens_details': {'audio_tokens': 0, 'cached_tokens': 0}}, 'model_name': 'gpt-3.5-turbo-0125', 'system_fingerprint': None, 'id': 'chatcmpl-BLE0mYNbnkJ4NyczZ0Iv1e9mfvQmk', 'finish_reason': 'stop', 'logprobs': None}, id='run-a9416d74-9b35-4287-b96e-733f3c27654a-0', usage_metadata={'input_tokens': 1127, 'output_tokens': 59, 'total_tokens': 1186, 'input_token_details': {'audio': 0, 'cache_read': 0}, 'output_token_details': {'audio': 0, 'reasoning': 0}})]}\n"
     ]
    }
   ],
   "source": [
    "for event in abot.graph.stream(None, branch_state):\n",
    "    for k, v in event.items():\n",
    "        if k != \"__end__\":\n",
    "            print(v)"
   ]
  },
  {
   "cell_type": "markdown",
   "id": "74bd95b8",
   "metadata": {},
   "source": [
    "# Add Message to a state at a given time"
   ]
  },
  {
   "cell_type": "code",
   "execution_count": 42,
   "id": "900ea707",
   "metadata": {},
   "outputs": [
    {
     "data": {
      "text/plain": [
       "StateSnapshot(values={'messages': [HumanMessage(content='What is weather in guntur', additional_kwargs={}, response_metadata={}, id='e0c81b9f-d5f5-4a59-9629-f36f1405cc1f'), AIMessage(content='', additional_kwargs={'tool_calls': [{'id': 'call_pYA7sYXXFTZBGDQui2PErLLg', 'function': {'arguments': '{\"query\":\"weather in Guntur\"}', 'name': 'tavily_search_results_json'}, 'type': 'function'}], 'refusal': None}, response_metadata={'token_usage': {'completion_tokens': 23, 'prompt_tokens': 153, 'total_tokens': 176, 'completion_tokens_details': {'accepted_prediction_tokens': 0, 'audio_tokens': 0, 'reasoning_tokens': 0, 'rejected_prediction_tokens': 0}, 'prompt_tokens_details': {'audio_tokens': 0, 'cached_tokens': 0}}, 'model_name': 'gpt-3.5-turbo-0125', 'system_fingerprint': None, 'id': 'chatcmpl-BLDciwRdt1zBgyt4Wu5RSDUeUIohx', 'finish_reason': 'tool_calls', 'logprobs': None}, id='run-de33aa74-66f6-4c77-815a-35b0dab15ed6-0', tool_calls=[{'name': 'tavily_search_results_json', 'args': {'query': 'weather in New york'}, 'id': 'call_pYA7sYXXFTZBGDQui2PErLLg'}], usage_metadata={'input_tokens': 153, 'output_tokens': 23, 'total_tokens': 176, 'input_token_details': {'audio': 0, 'cache_read': 0}, 'output_token_details': {'audio': 0, 'reasoning': 0}})]}, next=('action',), config={'configurable': {'thread_id': '3', 'checkpoint_ns': '', 'checkpoint_id': '1f01704b-d301-611c-8001-c29d38fd31c0'}}, metadata={'source': 'loop', 'writes': {'llm': {'messages': [AIMessage(content='', additional_kwargs={'tool_calls': [{'id': 'call_pYA7sYXXFTZBGDQui2PErLLg', 'function': {'arguments': '{\"query\":\"weather in Guntur\"}', 'name': 'tavily_search_results_json'}, 'type': 'function'}], 'refusal': None}, response_metadata={'token_usage': {'completion_tokens': 23, 'prompt_tokens': 153, 'total_tokens': 176, 'completion_tokens_details': {'accepted_prediction_tokens': 0, 'audio_tokens': 0, 'reasoning_tokens': 0, 'rejected_prediction_tokens': 0}, 'prompt_tokens_details': {'audio_tokens': 0, 'cached_tokens': 0}}, 'model_name': 'gpt-3.5-turbo-0125', 'system_fingerprint': None, 'id': 'chatcmpl-BLDciwRdt1zBgyt4Wu5RSDUeUIohx', 'finish_reason': 'tool_calls', 'logprobs': None}, id='run-de33aa74-66f6-4c77-815a-35b0dab15ed6-0', tool_calls=[{'name': 'tavily_search_results_json', 'args': {'query': 'weather in Guntur'}, 'id': 'call_pYA7sYXXFTZBGDQui2PErLLg', 'type': 'tool_call'}], usage_metadata={'input_tokens': 153, 'output_tokens': 23, 'total_tokens': 176, 'input_token_details': {'audio': 0, 'cache_read': 0}, 'output_token_details': {'audio': 0, 'reasoning': 0}})]}}, 'step': 1, 'parents': {}, 'thread_id': '3'}, created_at='2025-04-11T18:42:36.983714+00:00', parent_config={'configurable': {'thread_id': '3', 'checkpoint_ns': '', 'checkpoint_id': '1f01704b-c6ed-61b4-8000-aafe7d2331aa'}}, tasks=(PregelTask(id='ba8bf1a9-8097-f3dc-3383-a4f495749634', name='action', path=('__pregel_pull', 'action'), error=None, interrupts=(), state=None, result=None),))"
      ]
     },
     "execution_count": 42,
     "metadata": {},
     "output_type": "execute_result"
    }
   ],
   "source": [
    "to_reply"
   ]
  },
  {
   "cell_type": "code",
   "execution_count": 43,
   "id": "afd2a4d0",
   "metadata": {},
   "outputs": [],
   "source": [
    "_id = to_reply.values[\"messages\"][-1].tool_calls[0][\"id\"]"
   ]
  },
  {
   "cell_type": "code",
   "execution_count": 47,
   "id": "a79bdef4",
   "metadata": {},
   "outputs": [],
   "source": [
    "state_update = {\"messages\": [ToolMessage(\n",
    "    tool_call_id=_id,\n",
    "    name=\"tavily_search_results_json\",\n",
    "    content=\"54 degree celcius\",\n",
    ")]}"
   ]
  },
  {
   "cell_type": "code",
   "execution_count": 49,
   "id": "97eee6d6",
   "metadata": {},
   "outputs": [],
   "source": [
    "branch_and_add = abot.graph.update_state(\n",
    "    to_reply.config,\n",
    "    state_update,\n",
    "    as_node=\"action\"\n",
    ")"
   ]
  },
  {
   "cell_type": "code",
   "execution_count": 50,
   "id": "30925222",
   "metadata": {},
   "outputs": [
    {
     "name": "stdout",
     "output_type": "stream",
     "text": [
      "State : {'messages': [HumanMessage(content='What is weather in guntur', additional_kwargs={}, response_metadata={}, id='e0c81b9f-d5f5-4a59-9629-f36f1405cc1f'), AIMessage(content='', additional_kwargs={'tool_calls': [{'id': 'call_pYA7sYXXFTZBGDQui2PErLLg', 'function': {'arguments': '{\"query\":\"weather in Guntur\"}', 'name': 'tavily_search_results_json'}, 'type': 'function'}], 'refusal': None}, response_metadata={'token_usage': {'completion_tokens': 23, 'prompt_tokens': 153, 'total_tokens': 176, 'completion_tokens_details': {'accepted_prediction_tokens': 0, 'audio_tokens': 0, 'reasoning_tokens': 0, 'rejected_prediction_tokens': 0}, 'prompt_tokens_details': {'audio_tokens': 0, 'cached_tokens': 0}}, 'model_name': 'gpt-3.5-turbo-0125', 'system_fingerprint': None, 'id': 'chatcmpl-BLDciwRdt1zBgyt4Wu5RSDUeUIohx', 'finish_reason': 'tool_calls', 'logprobs': None}, id='run-de33aa74-66f6-4c77-815a-35b0dab15ed6-0', tool_calls=[{'name': 'tavily_search_results_json', 'args': {'query': 'weather in Guntur'}, 'id': 'call_pYA7sYXXFTZBGDQui2PErLLg', 'type': 'tool_call'}], usage_metadata={'input_tokens': 153, 'output_tokens': 23, 'total_tokens': 176, 'input_token_details': {'audio': 0, 'cache_read': 0}, 'output_token_details': {'audio': 0, 'reasoning': 0}}), ToolMessage(content='54 degree celcius', name='tavily_search_results_json', id='9d0eb7a9-1f9c-41b8-90f7-129c50667ce8', tool_call_id='call_pYA7sYXXFTZBGDQui2PErLLg'), AIMessage(content='The current weather in Guntur is 54 degrees Celsius.', additional_kwargs={'refusal': None}, response_metadata={'token_usage': {'completion_tokens': 15, 'prompt_tokens': 192, 'total_tokens': 207, 'completion_tokens_details': {'accepted_prediction_tokens': 0, 'audio_tokens': 0, 'reasoning_tokens': 0, 'rejected_prediction_tokens': 0}, 'prompt_tokens_details': {'audio_tokens': 0, 'cached_tokens': 0}}, 'model_name': 'gpt-3.5-turbo-0125', 'system_fingerprint': None, 'id': 'chatcmpl-BLE9FAUe7IJ9Bdqz3UVAGZXxEAykT', 'finish_reason': 'stop', 'logprobs': None}, id='run-63ba4a5e-eef4-4940-8be0-1dc0d09bb014-0', usage_metadata={'input_tokens': 192, 'output_tokens': 15, 'total_tokens': 207, 'input_token_details': {'audio': 0, 'cache_read': 0}, 'output_token_details': {'audio': 0, 'reasoning': 0}})]}\n",
      "{'messages': [AIMessage(content='The current weather in Guntur is 54 degrees Celsius.', additional_kwargs={'refusal': None}, response_metadata={'token_usage': {'completion_tokens': 15, 'prompt_tokens': 192, 'total_tokens': 207, 'completion_tokens_details': {'accepted_prediction_tokens': 0, 'audio_tokens': 0, 'reasoning_tokens': 0, 'rejected_prediction_tokens': 0}, 'prompt_tokens_details': {'audio_tokens': 0, 'cached_tokens': 0}}, 'model_name': 'gpt-3.5-turbo-0125', 'system_fingerprint': None, 'id': 'chatcmpl-BLE9FAUe7IJ9Bdqz3UVAGZXxEAykT', 'finish_reason': 'stop', 'logprobs': None}, id='run-63ba4a5e-eef4-4940-8be0-1dc0d09bb014-0', usage_metadata={'input_tokens': 192, 'output_tokens': 15, 'total_tokens': 207, 'input_token_details': {'audio': 0, 'cache_read': 0}, 'output_token_details': {'audio': 0, 'reasoning': 0}})]}\n"
     ]
    }
   ],
   "source": [
    "for event in abot.graph.stream(None, branch_and_add):\n",
    "    for k,v in event.items():\n",
    "        print(v)"
   ]
  },
  {
   "cell_type": "code",
   "execution_count": null,
   "id": "d9ad9a93",
   "metadata": {},
   "outputs": [],
   "source": []
  }
 ],
 "metadata": {
  "kernelspec": {
   "display_name": "agents",
   "language": "python",
   "name": "python3"
  },
  "language_info": {
   "codemirror_mode": {
    "name": "ipython",
    "version": 3
   },
   "file_extension": ".py",
   "mimetype": "text/x-python",
   "name": "python",
   "nbconvert_exporter": "python",
   "pygments_lexer": "ipython3",
   "version": "3.10.17"
  }
 },
 "nbformat": 4,
 "nbformat_minor": 5
}
